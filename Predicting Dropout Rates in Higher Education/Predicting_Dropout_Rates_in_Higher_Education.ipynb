{
  "cells": [
    {
      "cell_type": "code",
      "execution_count": null,
      "metadata": {
        "id": "ou2OQGXx8qzS"
      },
      "outputs": [],
      "source": [
        "import pandas as pd\n",
        "import numpy as np"
      ]
    },
    {
      "cell_type": "code",
      "execution_count": null,
      "metadata": {
        "colab": {
          "base_uri": "https://localhost:8080/"
        },
        "id": "nkHhP8k981cg",
        "outputId": "4c96210b-a3ce-45c8-951b-fd79a8c33758"
      },
      "outputs": [
        {
          "name": "stdout",
          "output_type": "stream",
          "text": [
            "Drive already mounted at /content/drive; to attempt to forcibly remount, call drive.mount(\"/content/drive\", force_remount=True).\n"
          ]
        }
      ],
      "source": [
        "from google.colab import drive\n",
        "drive.mount('/content/drive')"
      ]
    },
    {
      "cell_type": "code",
      "execution_count": null,
      "metadata": {
        "id": "25F38QgnUX6m"
      },
      "outputs": [],
      "source": [
        "df = pd.read_csv(\"/content/drive/MyDrive/Defence/Day1/Final_data.csv\")"
      ]
    },
    {
      "cell_type": "code",
      "execution_count": null,
      "metadata": {
        "colab": {
          "base_uri": "https://localhost:8080/",
          "height": 464
        },
        "id": "g8ZwXZuh9AGJ",
        "outputId": "c0ec7a8f-308a-4506-97e1-0495eec34318"
      },
      "outputs": [
        {
          "data": {
            "application/vnd.google.colaboratory.intrinsic+json": {
              "type": "dataframe",
              "variable_name": "df"
            },
            "text/html": [
              "\n",
              "  <div id=\"df-0c2e5ef9-f051-4890-8932-0f9e4ea1785f\" class=\"colab-df-container\">\n",
              "    <div>\n",
              "<style scoped>\n",
              "    .dataframe tbody tr th:only-of-type {\n",
              "        vertical-align: middle;\n",
              "    }\n",
              "\n",
              "    .dataframe tbody tr th {\n",
              "        vertical-align: top;\n",
              "    }\n",
              "\n",
              "    .dataframe thead th {\n",
              "        text-align: right;\n",
              "    }\n",
              "</style>\n",
              "<table border=\"1\" class=\"dataframe\">\n",
              "  <thead>\n",
              "    <tr style=\"text-align: right;\">\n",
              "      <th></th>\n",
              "      <th>Student Number</th>\n",
              "      <th>Age</th>\n",
              "      <th>Gender</th>\n",
              "      <th>Education Level</th>\n",
              "      <th>Major/Field of Study</th>\n",
              "      <th>Department Selection</th>\n",
              "      <th>CGPA</th>\n",
              "      <th>CGPA Comparison</th>\n",
              "      <th>Average Course Grade Range</th>\n",
              "      <th>Questions Understandable</th>\n",
              "      <th>...</th>\n",
              "      <th>Academic Challenges(Language Barriers)</th>\n",
              "      <th>Academic Challenges(Time Management)</th>\n",
              "      <th>Extracurricular Participation(Student government or leadership positions)</th>\n",
              "      <th>Extracurricular Participation(Community service organizations)</th>\n",
              "      <th>Extracurricular Participation(Arts clubs)</th>\n",
              "      <th>Extracurricular Participation(Special interest clubs)</th>\n",
              "      <th>Extracurricular Participation(Academic clubs)</th>\n",
              "      <th>Extracurricular Participation(Sports teams)</th>\n",
              "      <th>Extracurricular Participation(None of the above / Not involved in any extracurricular activities)</th>\n",
              "      <th>Dropout</th>\n",
              "    </tr>\n",
              "  </thead>\n",
              "  <tbody>\n",
              "    <tr>\n",
              "      <th>0</th>\n",
              "      <td>1</td>\n",
              "      <td>22</td>\n",
              "      <td>Male</td>\n",
              "      <td>1st Year</td>\n",
              "      <td>Computer Science and Engineering</td>\n",
              "      <td>Forcefully Given</td>\n",
              "      <td>3.00</td>\n",
              "      <td>Similar</td>\n",
              "      <td>2.76 - 3.00</td>\n",
              "      <td>No</td>\n",
              "      <td>...</td>\n",
              "      <td>No</td>\n",
              "      <td>No</td>\n",
              "      <td>No</td>\n",
              "      <td>No</td>\n",
              "      <td>No</td>\n",
              "      <td>No</td>\n",
              "      <td>No</td>\n",
              "      <td>No</td>\n",
              "      <td>Yes</td>\n",
              "      <td>Yes</td>\n",
              "    </tr>\n",
              "    <tr>\n",
              "      <th>1</th>\n",
              "      <td>2</td>\n",
              "      <td>23</td>\n",
              "      <td>Female</td>\n",
              "      <td>3rd Year</td>\n",
              "      <td>BFA</td>\n",
              "      <td>Personal Choice</td>\n",
              "      <td>3.58</td>\n",
              "      <td>Lower</td>\n",
              "      <td>3.51 - 3.75</td>\n",
              "      <td>Yes</td>\n",
              "      <td>...</td>\n",
              "      <td>No</td>\n",
              "      <td>Yes</td>\n",
              "      <td>No</td>\n",
              "      <td>No</td>\n",
              "      <td>Yes</td>\n",
              "      <td>No</td>\n",
              "      <td>No</td>\n",
              "      <td>No</td>\n",
              "      <td>No</td>\n",
              "      <td>No</td>\n",
              "    </tr>\n",
              "    <tr>\n",
              "      <th>2</th>\n",
              "      <td>3</td>\n",
              "      <td>22</td>\n",
              "      <td>Female</td>\n",
              "      <td>3rd Year</td>\n",
              "      <td>GDM</td>\n",
              "      <td>Personal Choice</td>\n",
              "      <td>3.76</td>\n",
              "      <td>Higher</td>\n",
              "      <td>3.51 - 3.75</td>\n",
              "      <td>Yes</td>\n",
              "      <td>...</td>\n",
              "      <td>Yes</td>\n",
              "      <td>No</td>\n",
              "      <td>No</td>\n",
              "      <td>No</td>\n",
              "      <td>No</td>\n",
              "      <td>Yes</td>\n",
              "      <td>No</td>\n",
              "      <td>No</td>\n",
              "      <td>No</td>\n",
              "      <td>No</td>\n",
              "    </tr>\n",
              "    <tr>\n",
              "      <th>3</th>\n",
              "      <td>4</td>\n",
              "      <td>23</td>\n",
              "      <td>Male</td>\n",
              "      <td>3rd Year</td>\n",
              "      <td>Computer Science and Engineering</td>\n",
              "      <td>Forcefully Given</td>\n",
              "      <td>2.98</td>\n",
              "      <td>Lower</td>\n",
              "      <td>2.76 - 3.00</td>\n",
              "      <td>No</td>\n",
              "      <td>...</td>\n",
              "      <td>No</td>\n",
              "      <td>No</td>\n",
              "      <td>No</td>\n",
              "      <td>No</td>\n",
              "      <td>No</td>\n",
              "      <td>Yes</td>\n",
              "      <td>No</td>\n",
              "      <td>No</td>\n",
              "      <td>No</td>\n",
              "      <td>Yes</td>\n",
              "    </tr>\n",
              "    <tr>\n",
              "      <th>4</th>\n",
              "      <td>5</td>\n",
              "      <td>22</td>\n",
              "      <td>Male</td>\n",
              "      <td>2nd Year</td>\n",
              "      <td>EEE</td>\n",
              "      <td>Personal Choice</td>\n",
              "      <td>3.39</td>\n",
              "      <td>Similar</td>\n",
              "      <td>3.26 - 3.50</td>\n",
              "      <td>Average</td>\n",
              "      <td>...</td>\n",
              "      <td>No</td>\n",
              "      <td>Yes</td>\n",
              "      <td>No</td>\n",
              "      <td>No</td>\n",
              "      <td>No</td>\n",
              "      <td>No</td>\n",
              "      <td>No</td>\n",
              "      <td>No</td>\n",
              "      <td>Yes</td>\n",
              "      <td>Yes</td>\n",
              "    </tr>\n",
              "  </tbody>\n",
              "</table>\n",
              "<p>5 rows × 66 columns</p>\n",
              "</div>\n",
              "    <div class=\"colab-df-buttons\">\n",
              "\n",
              "  <div class=\"colab-df-container\">\n",
              "    <button class=\"colab-df-convert\" onclick=\"convertToInteractive('df-0c2e5ef9-f051-4890-8932-0f9e4ea1785f')\"\n",
              "            title=\"Convert this dataframe to an interactive table.\"\n",
              "            style=\"display:none;\">\n",
              "\n",
              "  <svg xmlns=\"http://www.w3.org/2000/svg\" height=\"24px\" viewBox=\"0 -960 960 960\">\n",
              "    <path d=\"M120-120v-720h720v720H120Zm60-500h600v-160H180v160Zm220 220h160v-160H400v160Zm0 220h160v-160H400v160ZM180-400h160v-160H180v160Zm440 0h160v-160H620v160ZM180-180h160v-160H180v160Zm440 0h160v-160H620v160Z\"/>\n",
              "  </svg>\n",
              "    </button>\n",
              "\n",
              "  <style>\n",
              "    .colab-df-container {\n",
              "      display:flex;\n",
              "      gap: 12px;\n",
              "    }\n",
              "\n",
              "    .colab-df-convert {\n",
              "      background-color: #E8F0FE;\n",
              "      border: none;\n",
              "      border-radius: 50%;\n",
              "      cursor: pointer;\n",
              "      display: none;\n",
              "      fill: #1967D2;\n",
              "      height: 32px;\n",
              "      padding: 0 0 0 0;\n",
              "      width: 32px;\n",
              "    }\n",
              "\n",
              "    .colab-df-convert:hover {\n",
              "      background-color: #E2EBFA;\n",
              "      box-shadow: 0px 1px 2px rgba(60, 64, 67, 0.3), 0px 1px 3px 1px rgba(60, 64, 67, 0.15);\n",
              "      fill: #174EA6;\n",
              "    }\n",
              "\n",
              "    .colab-df-buttons div {\n",
              "      margin-bottom: 4px;\n",
              "    }\n",
              "\n",
              "    [theme=dark] .colab-df-convert {\n",
              "      background-color: #3B4455;\n",
              "      fill: #D2E3FC;\n",
              "    }\n",
              "\n",
              "    [theme=dark] .colab-df-convert:hover {\n",
              "      background-color: #434B5C;\n",
              "      box-shadow: 0px 1px 3px 1px rgba(0, 0, 0, 0.15);\n",
              "      filter: drop-shadow(0px 1px 2px rgba(0, 0, 0, 0.3));\n",
              "      fill: #FFFFFF;\n",
              "    }\n",
              "  </style>\n",
              "\n",
              "    <script>\n",
              "      const buttonEl =\n",
              "        document.querySelector('#df-0c2e5ef9-f051-4890-8932-0f9e4ea1785f button.colab-df-convert');\n",
              "      buttonEl.style.display =\n",
              "        google.colab.kernel.accessAllowed ? 'block' : 'none';\n",
              "\n",
              "      async function convertToInteractive(key) {\n",
              "        const element = document.querySelector('#df-0c2e5ef9-f051-4890-8932-0f9e4ea1785f');\n",
              "        const dataTable =\n",
              "          await google.colab.kernel.invokeFunction('convertToInteractive',\n",
              "                                                    [key], {});\n",
              "        if (!dataTable) return;\n",
              "\n",
              "        const docLinkHtml = 'Like what you see? Visit the ' +\n",
              "          '<a target=\"_blank\" href=https://colab.research.google.com/notebooks/data_table.ipynb>data table notebook</a>'\n",
              "          + ' to learn more about interactive tables.';\n",
              "        element.innerHTML = '';\n",
              "        dataTable['output_type'] = 'display_data';\n",
              "        await google.colab.output.renderOutput(dataTable, element);\n",
              "        const docLink = document.createElement('div');\n",
              "        docLink.innerHTML = docLinkHtml;\n",
              "        element.appendChild(docLink);\n",
              "      }\n",
              "    </script>\n",
              "  </div>\n",
              "\n",
              "\n",
              "<div id=\"df-d26f1dac-7bae-4e49-afb5-31f0de05e04c\">\n",
              "  <button class=\"colab-df-quickchart\" onclick=\"quickchart('df-d26f1dac-7bae-4e49-afb5-31f0de05e04c')\"\n",
              "            title=\"Suggest charts\"\n",
              "            style=\"display:none;\">\n",
              "\n",
              "<svg xmlns=\"http://www.w3.org/2000/svg\" height=\"24px\"viewBox=\"0 0 24 24\"\n",
              "     width=\"24px\">\n",
              "    <g>\n",
              "        <path d=\"M19 3H5c-1.1 0-2 .9-2 2v14c0 1.1.9 2 2 2h14c1.1 0 2-.9 2-2V5c0-1.1-.9-2-2-2zM9 17H7v-7h2v7zm4 0h-2V7h2v10zm4 0h-2v-4h2v4z\"/>\n",
              "    </g>\n",
              "</svg>\n",
              "  </button>\n",
              "\n",
              "<style>\n",
              "  .colab-df-quickchart {\n",
              "      --bg-color: #E8F0FE;\n",
              "      --fill-color: #1967D2;\n",
              "      --hover-bg-color: #E2EBFA;\n",
              "      --hover-fill-color: #174EA6;\n",
              "      --disabled-fill-color: #AAA;\n",
              "      --disabled-bg-color: #DDD;\n",
              "  }\n",
              "\n",
              "  [theme=dark] .colab-df-quickchart {\n",
              "      --bg-color: #3B4455;\n",
              "      --fill-color: #D2E3FC;\n",
              "      --hover-bg-color: #434B5C;\n",
              "      --hover-fill-color: #FFFFFF;\n",
              "      --disabled-bg-color: #3B4455;\n",
              "      --disabled-fill-color: #666;\n",
              "  }\n",
              "\n",
              "  .colab-df-quickchart {\n",
              "    background-color: var(--bg-color);\n",
              "    border: none;\n",
              "    border-radius: 50%;\n",
              "    cursor: pointer;\n",
              "    display: none;\n",
              "    fill: var(--fill-color);\n",
              "    height: 32px;\n",
              "    padding: 0;\n",
              "    width: 32px;\n",
              "  }\n",
              "\n",
              "  .colab-df-quickchart:hover {\n",
              "    background-color: var(--hover-bg-color);\n",
              "    box-shadow: 0 1px 2px rgba(60, 64, 67, 0.3), 0 1px 3px 1px rgba(60, 64, 67, 0.15);\n",
              "    fill: var(--button-hover-fill-color);\n",
              "  }\n",
              "\n",
              "  .colab-df-quickchart-complete:disabled,\n",
              "  .colab-df-quickchart-complete:disabled:hover {\n",
              "    background-color: var(--disabled-bg-color);\n",
              "    fill: var(--disabled-fill-color);\n",
              "    box-shadow: none;\n",
              "  }\n",
              "\n",
              "  .colab-df-spinner {\n",
              "    border: 2px solid var(--fill-color);\n",
              "    border-color: transparent;\n",
              "    border-bottom-color: var(--fill-color);\n",
              "    animation:\n",
              "      spin 1s steps(1) infinite;\n",
              "  }\n",
              "\n",
              "  @keyframes spin {\n",
              "    0% {\n",
              "      border-color: transparent;\n",
              "      border-bottom-color: var(--fill-color);\n",
              "      border-left-color: var(--fill-color);\n",
              "    }\n",
              "    20% {\n",
              "      border-color: transparent;\n",
              "      border-left-color: var(--fill-color);\n",
              "      border-top-color: var(--fill-color);\n",
              "    }\n",
              "    30% {\n",
              "      border-color: transparent;\n",
              "      border-left-color: var(--fill-color);\n",
              "      border-top-color: var(--fill-color);\n",
              "      border-right-color: var(--fill-color);\n",
              "    }\n",
              "    40% {\n",
              "      border-color: transparent;\n",
              "      border-right-color: var(--fill-color);\n",
              "      border-top-color: var(--fill-color);\n",
              "    }\n",
              "    60% {\n",
              "      border-color: transparent;\n",
              "      border-right-color: var(--fill-color);\n",
              "    }\n",
              "    80% {\n",
              "      border-color: transparent;\n",
              "      border-right-color: var(--fill-color);\n",
              "      border-bottom-color: var(--fill-color);\n",
              "    }\n",
              "    90% {\n",
              "      border-color: transparent;\n",
              "      border-bottom-color: var(--fill-color);\n",
              "    }\n",
              "  }\n",
              "</style>\n",
              "\n",
              "  <script>\n",
              "    async function quickchart(key) {\n",
              "      const quickchartButtonEl =\n",
              "        document.querySelector('#' + key + ' button');\n",
              "      quickchartButtonEl.disabled = true;  // To prevent multiple clicks.\n",
              "      quickchartButtonEl.classList.add('colab-df-spinner');\n",
              "      try {\n",
              "        const charts = await google.colab.kernel.invokeFunction(\n",
              "            'suggestCharts', [key], {});\n",
              "      } catch (error) {\n",
              "        console.error('Error during call to suggestCharts:', error);\n",
              "      }\n",
              "      quickchartButtonEl.classList.remove('colab-df-spinner');\n",
              "      quickchartButtonEl.classList.add('colab-df-quickchart-complete');\n",
              "    }\n",
              "    (() => {\n",
              "      let quickchartButtonEl =\n",
              "        document.querySelector('#df-d26f1dac-7bae-4e49-afb5-31f0de05e04c button');\n",
              "      quickchartButtonEl.style.display =\n",
              "        google.colab.kernel.accessAllowed ? 'block' : 'none';\n",
              "    })();\n",
              "  </script>\n",
              "</div>\n",
              "\n",
              "    </div>\n",
              "  </div>\n"
            ],
            "text/plain": [
              "   Student Number  Age  Gender Education Level  \\\n",
              "0               1   22    Male        1st Year   \n",
              "1               2   23  Female        3rd Year   \n",
              "2               3   22  Female        3rd Year   \n",
              "3               4   23    Male        3rd Year   \n",
              "4               5   22    Male        2nd Year   \n",
              "\n",
              "               Major/Field of Study Department Selection  CGPA  \\\n",
              "0  Computer Science and Engineering     Forcefully Given  3.00   \n",
              "1                               BFA      Personal Choice  3.58   \n",
              "2                               GDM      Personal Choice  3.76   \n",
              "3  Computer Science and Engineering     Forcefully Given  2.98   \n",
              "4                               EEE      Personal Choice  3.39   \n",
              "\n",
              "  CGPA Comparison Average Course Grade Range Questions Understandable  ...  \\\n",
              "0         Similar                2.76 - 3.00                       No  ...   \n",
              "1           Lower                3.51 - 3.75                      Yes  ...   \n",
              "2          Higher                3.51 - 3.75                      Yes  ...   \n",
              "3           Lower                2.76 - 3.00                       No  ...   \n",
              "4         Similar                3.26 - 3.50                  Average  ...   \n",
              "\n",
              "  Academic Challenges(Language Barriers) Academic Challenges(Time Management)  \\\n",
              "0                                     No                                   No   \n",
              "1                                     No                                  Yes   \n",
              "2                                    Yes                                   No   \n",
              "3                                     No                                   No   \n",
              "4                                     No                                  Yes   \n",
              "\n",
              "  Extracurricular Participation(Student government or leadership positions)  \\\n",
              "0                                                 No                          \n",
              "1                                                 No                          \n",
              "2                                                 No                          \n",
              "3                                                 No                          \n",
              "4                                                 No                          \n",
              "\n",
              "  Extracurricular Participation(Community service organizations)  \\\n",
              "0                                                 No               \n",
              "1                                                 No               \n",
              "2                                                 No               \n",
              "3                                                 No               \n",
              "4                                                 No               \n",
              "\n",
              "  Extracurricular Participation(Arts clubs)  \\\n",
              "0                                        No   \n",
              "1                                       Yes   \n",
              "2                                        No   \n",
              "3                                        No   \n",
              "4                                        No   \n",
              "\n",
              "  Extracurricular Participation(Special interest clubs)  \\\n",
              "0                                                 No      \n",
              "1                                                 No      \n",
              "2                                                Yes      \n",
              "3                                                Yes      \n",
              "4                                                 No      \n",
              "\n",
              "  Extracurricular Participation(Academic clubs)  \\\n",
              "0                                            No   \n",
              "1                                            No   \n",
              "2                                            No   \n",
              "3                                            No   \n",
              "4                                            No   \n",
              "\n",
              "  Extracurricular Participation(Sports teams)  \\\n",
              "0                                          No   \n",
              "1                                          No   \n",
              "2                                          No   \n",
              "3                                          No   \n",
              "4                                          No   \n",
              "\n",
              "  Extracurricular Participation(None of the above / Not involved in any extracurricular activities)  \\\n",
              "0                                                Yes                                                  \n",
              "1                                                 No                                                  \n",
              "2                                                 No                                                  \n",
              "3                                                 No                                                  \n",
              "4                                                Yes                                                  \n",
              "\n",
              "   Dropout  \n",
              "0      Yes  \n",
              "1       No  \n",
              "2       No  \n",
              "3      Yes  \n",
              "4      Yes  \n",
              "\n",
              "[5 rows x 66 columns]"
            ]
          },
          "execution_count": 109,
          "metadata": {},
          "output_type": "execute_result"
        }
      ],
      "source": [
        "df.head()"
      ]
    },
    {
      "cell_type": "code",
      "execution_count": null,
      "metadata": {
        "colab": {
          "base_uri": "https://localhost:8080/"
        },
        "id": "zItbgEMg9E05",
        "outputId": "38f3bf9a-8026-47d2-8689-c341c372d259"
      },
      "outputs": [
        {
          "name": "stdout",
          "output_type": "stream",
          "text": [
            "<class 'pandas.core.frame.DataFrame'>\n",
            "RangeIndex: 1144 entries, 0 to 1143\n",
            "Data columns (total 66 columns):\n",
            " #   Column                                                                                             Non-Null Count  Dtype  \n",
            "---  ------                                                                                             --------------  -----  \n",
            " 0   Student Number                                                                                     1144 non-null   int64  \n",
            " 1   Age                                                                                                1144 non-null   int64  \n",
            " 2   Gender                                                                                             1144 non-null   object \n",
            " 3   Education Level                                                                                    1144 non-null   object \n",
            " 4   Major/Field of Study                                                                               1144 non-null   object \n",
            " 5   Department Selection                                                                               1144 non-null   object \n",
            " 6   CGPA                                                                                               1144 non-null   float64\n",
            " 7   CGPA Comparison                                                                                    1144 non-null   object \n",
            " 8   Average Course Grade Range                                                                         1134 non-null   object \n",
            " 9   Questions Understandable                                                                           1144 non-null   object \n",
            " 10  Marking System Strictness                                                                          1144 non-null   object \n",
            " 11  Retake Courses                                                                                     1144 non-null   object \n",
            " 12  Weekly Study Hours                                                                                 1144 non-null   object \n",
            " 13  Preferred Study Location                                                                           1144 non-null   object \n",
            " 14  Job Status                                                                                         1144 non-null   object \n",
            " 15  Family Impact on Study                                                                             1144 non-null   object \n",
            " 16  Travel Time to Campus                                                                              1144 non-null   object \n",
            " 17  Past Failures                                                                                      1144 non-null   object \n",
            " 18  Comfort with Online Learning                                                                       1144 non-null   object \n",
            " 19  Academic Performance Level                                                                         1144 non-null   int64  \n",
            " 20  Semester Fee Level                                                                                 1144 non-null   object \n",
            " 21  Access to Technology                                                                               1144 non-null   object \n",
            " 22  Average Sleep Hours                                                                                1144 non-null   object \n",
            " 23  Academic Stress Level                                                                              1144 non-null   int64  \n",
            " 24  Regular Workout                                                                                    1144 non-null   object \n",
            " 25  Academic Satisfaction Level                                                                        1144 non-null   int64  \n",
            " 26  Use of Support Services                                                                            1144 non-null   object \n",
            " 27  Additional Academic Comments                                                                       1144 non-null   object \n",
            " 28  Father's Occupation                                                                                1144 non-null   object \n",
            " 29  Mother's Occupation                                                                                1144 non-null   object \n",
            " 30  Family Size                                                                                        1144 non-null   int64  \n",
            " 31  Marital Status                                                                                     1144 non-null   object \n",
            " 32  Living Area                                                                                        1144 non-null   object \n",
            " 33  Financial Issues                                                                                   1144 non-null   object \n",
            " 34  Scholarship Status                                                                                 1144 non-null   object \n",
            " 35  Physical Health                                                                                    1144 non-null   object \n",
            " 36  Tuition Satisfaction                                                                               1144 non-null   object \n",
            " 37  Family Support                                                                                     1144 non-null   object \n",
            " 38  Additional Tuition/Tutoring                                                                        1144 non-null   object \n",
            " 39  Social Media Time                                                                                  1144 non-null   object \n",
            " 40  Current Addictions                                                                                 1144 non-null   object \n",
            " 41  Performance Measurement(Assignment)                                                                1144 non-null   object \n",
            " 42  Performance Measurement(Written)                                                                   1144 non-null   object \n",
            " 43  Performance Measurement(MCQ)                                                                       1144 non-null   object \n",
            " 44  Performance Measurement(Presentation)                                                              1144 non-null   object \n",
            " 45  Performance Measurement(Oral)                                                                      1144 non-null   object \n",
            " 46  Preferred Study Methods(Participating in group study sessions or study groups)                     1144 non-null   object \n",
            " 47  Preferred Study Methods(Reading textbooks and lecture notes)                                       1144 non-null   object \n",
            " 48  Preferred Study Methods(Taking notes and reviewing them regularly)                                 1144 non-null   object \n",
            " 49  Preferred Study Methods(Other (please specify))                                                    1144 non-null   object \n",
            " 50  Preferred Study Methods(Watching educational videos or tutorials)                                  1144 non-null   object \n",
            " 51  Preferred Study Methods(Utilizing online resources or interactive learning platforms)              1144 non-null   object \n",
            " 52  Academic Challenges(Participation in Class)                                                        1144 non-null   object \n",
            " 53  Academic Challenges( Understanding Course Material)                                                1144 non-null   object \n",
            " 54  Academic Challenges(Critical Thinking)                                                             1144 non-null   object \n",
            " 55  Academic Challenges(Technical Skills)                                                              1144 non-null   object \n",
            " 56  Academic Challenges(Language Barriers)                                                             1144 non-null   object \n",
            " 57  Academic Challenges(Time Management)                                                               1144 non-null   object \n",
            " 58  Extracurricular Participation(Student government or leadership positions)                          1144 non-null   object \n",
            " 59  Extracurricular Participation(Community service organizations)                                     1144 non-null   object \n",
            " 60  Extracurricular Participation(Arts clubs)                                                          1144 non-null   object \n",
            " 61  Extracurricular Participation(Special interest clubs)                                              1144 non-null   object \n",
            " 62  Extracurricular Participation(Academic clubs)                                                      1144 non-null   object \n",
            " 63  Extracurricular Participation(Sports teams)                                                        1144 non-null   object \n",
            " 64  Extracurricular Participation(None of the above / Not involved in any extracurricular activities)  1144 non-null   object \n",
            " 65  Dropout                                                                                            1144 non-null   object \n",
            "dtypes: float64(1), int64(6), object(59)\n",
            "memory usage: 590.0+ KB\n"
          ]
        }
      ],
      "source": [
        "df.info()"
      ]
    },
    {
      "cell_type": "markdown",
      "metadata": {
        "id": "hOFWbzarCjBd"
      },
      "source": [
        "Null value imputing"
      ]
    },
    {
      "cell_type": "code",
      "execution_count": null,
      "metadata": {
        "colab": {
          "base_uri": "https://localhost:8080/"
        },
        "id": "B8bsatBy9IVx",
        "outputId": "f51323cb-3f81-4d07-ec99-8726b93b1280"
      },
      "outputs": [
        {
          "data": {
            "text/plain": [
              "Student Number                   0\n",
              "Age                              0\n",
              "Gender                           0\n",
              "Education Level                  0\n",
              "Major/Field of Study             0\n",
              "Department Selection             0\n",
              "CGPA                             0\n",
              "CGPA Comparison                  0\n",
              "Average Course Grade Range      10\n",
              "Questions Understandable         0\n",
              "Marking System Strictness        0\n",
              "Retake Courses                   0\n",
              "Weekly Study Hours               0\n",
              "Preferred Study Location         0\n",
              "Job Status                       0\n",
              "Family Impact on Study           0\n",
              "Travel Time to Campus            0\n",
              "Past Failures                    0\n",
              "Comfort with Online Learning     0\n",
              "Academic Performance Level       0\n",
              "dtype: int64"
            ]
          },
          "execution_count": 111,
          "metadata": {},
          "output_type": "execute_result"
        }
      ],
      "source": [
        "df.iloc[:,0:20].isnull().sum()"
      ]
    },
    {
      "cell_type": "code",
      "execution_count": null,
      "metadata": {
        "id": "nozchRlm9XAD"
      },
      "outputs": [],
      "source": [
        "categorical_columns = df.select_dtypes(include=['object']).columns\n",
        "for i in categorical_columns:\n",
        "  df[i].fillna(df[i].mode()[0], inplace=True)"
      ]
    },
    {
      "cell_type": "code",
      "execution_count": null,
      "metadata": {
        "colab": {
          "base_uri": "https://localhost:8080/"
        },
        "id": "cdQEYrHP9081",
        "outputId": "f9c90248-2ab2-4910-8cf5-5bd5a53cc1b9"
      },
      "outputs": [
        {
          "name": "stdout",
          "output_type": "stream",
          "text": [
            "Column Index: 0\n",
            "Column: Student Number\n",
            "Unique Values: [   1    2    3 ... 1142 1143 1144]\n",
            "Data Type: int64\n",
            "\n",
            "Column Index: 1\n",
            "Column: Age\n",
            "Unique Values: [22 23 20 25 24 21 27 18 19 33 26]\n",
            "Data Type: int64\n",
            "\n",
            "Column Index: 2\n",
            "Column: Gender\n",
            "Unique Values: ['Male' 'Female']\n",
            "Data Type: object\n",
            "\n",
            "Column Index: 3\n",
            "Column: Education Level\n",
            "Unique Values: ['1st Year' '3rd Year' '2nd Year' '4th Year']\n",
            "Data Type: object\n",
            "\n",
            "Column Index: 4\n",
            "Column: Major/Field of Study\n",
            "Unique Values: ['Computer Science and Engineering' 'BFA' 'GDM' 'EEE' 'SWE' 'BBA' 'BTX'\n",
            " 'Mechatronics Engineering' 'Statistics' 'Fisheries' 'CE' 'Hons. English'\n",
            " 'Agriculture' 'DVM' 'Accounting' 'ba' 'bss' 'nfe' 'mathematics' 'fahs'\n",
            " 'Law' 'Pharmacy' 'Textile' 'Microbiology' 'b.a' 'bsc'\n",
            " 'Genetic Engineering']\n",
            "Data Type: object\n",
            "\n",
            "Column Index: 5\n",
            "Column: Department Selection\n",
            "Unique Values: ['Forcefully Given' 'Personal Choice']\n",
            "Data Type: object\n",
            "\n",
            "Column Index: 6\n",
            "Column: CGPA\n",
            "Unique Values: [3.   3.58 3.76 2.98 3.39 3.05 3.15 3.2  3.85 3.36 3.7  3.33 2.92 3.32\n",
            " 3.48 3.43 3.81 2.67 3.83 3.86 3.6  3.45 3.37 3.4  2.5  3.79 3.75 3.94\n",
            " 3.67 3.5  2.22 2.65 2.   3.21 2.96 3.78 3.84 3.14 3.19 3.13 2.83 3.22\n",
            " 3.24 3.34 3.07 2.97 3.01 3.51 3.82 3.27 2.82 3.87 3.42 3.92 3.35 3.88\n",
            " 3.26 3.17 3.28 3.25 2.79 3.23 3.29 2.47 3.89 2.85 2.91 2.8  2.88 2.76\n",
            " 2.89 2.87 2.99 2.75 2.81 2.9  2.78 2.95 2.77 2.93 2.84 2.86 2.94]\n",
            "Data Type: float64\n",
            "\n",
            "Column Index: 7\n",
            "Column: CGPA Comparison\n",
            "Unique Values: ['Similar' 'Lower' 'Higher']\n",
            "Data Type: object\n",
            "\n",
            "Column Index: 8\n",
            "Column: Average Course Grade Range\n",
            "Unique Values: ['2.76 - 3.00' '3.51 - 3.75' '3.26 - 3.50' '3.00 - 3.25' '3.76 - 4.00'\n",
            " '2.51 - 2.75' '2.26 - 2.50']\n",
            "Data Type: object\n",
            "\n",
            "Column Index: 9\n",
            "Column: Questions Understandable\n",
            "Unique Values: ['No' 'Yes' 'Average']\n",
            "Data Type: object\n",
            "\n",
            "Column Index: 10\n",
            "Column: Marking System Strictness\n",
            "Unique Values: ['Yes' 'No']\n",
            "Data Type: object\n",
            "\n",
            "Column Index: 11\n",
            "Column: Retake Courses\n",
            "Unique Values: ['No' 'Yes']\n",
            "Data Type: object\n",
            "\n",
            "Column Index: 12\n",
            "Column: Weekly Study Hours\n",
            "Unique Values: ['1-5' '11-15' '6-10' 'More then 20' '16-20' '5-10']\n",
            "Data Type: object\n",
            "\n",
            "Column Index: 13\n",
            "Column: Preferred Study Location\n",
            "Unique Values: ['Library' 'Home' 'Open Area' 'Any Location' 'Study Table'\n",
            " 'in a quite place' 'Room' 'pathology' 'accounting' 'Campus' 'Coffee Shop'\n",
            " 'public transport' 'at book store']\n",
            "Data Type: object\n",
            "\n",
            "Column Index: 14\n",
            "Column: Job Status\n",
            "Unique Values: ['Part-time' 'No' 'Full-time']\n",
            "Data Type: object\n",
            "\n",
            "Column Index: 15\n",
            "Column: Family Impact on Study\n",
            "Unique Values: ['No' 'Yes']\n",
            "Data Type: object\n",
            "\n",
            "Column Index: 16\n",
            "Column: Travel Time to Campus\n",
            "Unique Values: ['1-2' '2-3' '3-4' '0-1' '5-6' '4-5']\n",
            "Data Type: object\n",
            "\n",
            "Column Index: 17\n",
            "Column: Past Failures\n",
            "Unique Values: ['Yes' 'No']\n",
            "Data Type: object\n",
            "\n",
            "Column Index: 18\n",
            "Column: Comfort with Online Learning\n",
            "Unique Values: ['Yes' 'No']\n",
            "Data Type: object\n",
            "\n",
            "Column Index: 19\n",
            "Column: Academic Performance Level\n",
            "Unique Values: [3 4 2 5 1]\n",
            "Data Type: int64\n",
            "\n",
            "Column Index: 20\n",
            "Column: Semester Fee Level\n",
            "Unique Values: ['Very High' 'Moderate']\n",
            "Data Type: object\n",
            "\n",
            "Column Index: 21\n",
            "Column: Access to Technology\n",
            "Unique Values: ['Yes' 'No']\n",
            "Data Type: object\n",
            "\n",
            "Column Index: 22\n",
            "Column: Average Sleep Hours\n",
            "Unique Values: ['4-6' '6-8' '2-4' '8-10']\n",
            "Data Type: object\n",
            "\n",
            "Column Index: 23\n",
            "Column: Academic Stress Level\n",
            "Unique Values: [1 4 3 5 2]\n",
            "Data Type: int64\n",
            "\n",
            "Column Index: 24\n",
            "Column: Regular Workout\n",
            "Unique Values: ['No' 'Yes' 'Sometimes']\n",
            "Data Type: object\n",
            "\n",
            "Column Index: 25\n",
            "Column: Academic Satisfaction Level\n",
            "Unique Values: [1 3 4 5 2]\n",
            "Data Type: int64\n",
            "\n",
            "Column Index: 26\n",
            "Column: Use of Support Services\n",
            "Unique Values: ['No' 'Yes']\n",
            "Data Type: object\n",
            "\n",
            "Column Index: 27\n",
            "Column: Additional Academic Comments\n",
            "Unique Values: ['No Comments' 'Positive Comments' 'Detailed Comments' 'Negative Comments']\n",
            "Data Type: object\n",
            "\n",
            "Column Index: 28\n",
            "Column: Father's Occupation\n",
            "Unique Values: ['Service Holder' 'Teacher' 'Businessman' 'Farmer' 'Other' 'Doctor'\n",
            " 'Government Employee' 'Engineer' 'Banker' 'Driver']\n",
            "Data Type: object\n",
            "\n",
            "Column Index: 29\n",
            "Column: Mother's Occupation\n",
            "Unique Values: ['Housewife' 'Teacher' 'Government Employee' 'Nurse' 'Service Holder'\n",
            " 'Retired' 'Doctor' 'Engineer']\n",
            "Data Type: object\n",
            "\n",
            "Column Index: 30\n",
            "Column: Family Size\n",
            "Unique Values: [4 5 6 3]\n",
            "Data Type: int64\n",
            "\n",
            "Column Index: 31\n",
            "Column: Marital Status\n",
            "Unique Values: ['Unmarried' 'Married']\n",
            "Data Type: object\n",
            "\n",
            "Column Index: 32\n",
            "Column: Living Area\n",
            "Unique Values: ['Dhaka' 'Rajshahi' 'Sylhet' 'Chattogram' 'Other' 'Bogura' 'Tangail'\n",
            " 'Mymensingh' 'Khulsi' 'Barisal' 'Khulna' 'Rangpur']\n",
            "Data Type: object\n",
            "\n",
            "Column Index: 33\n",
            "Column: Financial Issues\n",
            "Unique Values: ['Yes' 'No']\n",
            "Data Type: object\n",
            "\n",
            "Column Index: 34\n",
            "Column: Scholarship Status\n",
            "Unique Values: ['No' 'Yes']\n",
            "Data Type: object\n",
            "\n",
            "Column Index: 35\n",
            "Column: Physical Health\n",
            "Unique Values: ['Good' 'Fair' 'Excellent' 'Poor']\n",
            "Data Type: object\n",
            "\n",
            "Column Index: 36\n",
            "Column: Tuition Satisfaction\n",
            "Unique Values: ['Very Dissatisfied' 'Neutral' 'Satisfied' 'Dissatisfied']\n",
            "Data Type: object\n",
            "\n",
            "Column Index: 37\n",
            "Column: Family Support\n",
            "Unique Values: ['No' 'Yes']\n",
            "Data Type: object\n",
            "\n",
            "Column Index: 38\n",
            "Column: Additional Tuition/Tutoring\n",
            "Unique Values: ['No' 'Yes']\n",
            "Data Type: object\n",
            "\n",
            "Column Index: 39\n",
            "Column: Social Media Time\n",
            "Unique Values: ['3-4' '1-2' '5-6' '7-8']\n",
            "Data Type: object\n",
            "\n",
            "Column Index: 40\n",
            "Column: Current Addictions\n",
            "Unique Values: ['Yes' 'No']\n",
            "Data Type: object\n",
            "\n",
            "Column Index: 41\n",
            "Column: Performance Measurement(Assignment)\n",
            "Unique Values: ['No' 'Yes']\n",
            "Data Type: object\n",
            "\n",
            "Column Index: 42\n",
            "Column: Performance Measurement(Written)\n",
            "Unique Values: ['Yes' 'No']\n",
            "Data Type: object\n",
            "\n",
            "Column Index: 43\n",
            "Column: Performance Measurement(MCQ)\n",
            "Unique Values: ['Yes' 'No']\n",
            "Data Type: object\n",
            "\n",
            "Column Index: 44\n",
            "Column: Performance Measurement(Presentation)\n",
            "Unique Values: ['No' 'Yes']\n",
            "Data Type: object\n",
            "\n",
            "Column Index: 45\n",
            "Column: Performance Measurement(Oral)\n",
            "Unique Values: ['No' 'Yes']\n",
            "Data Type: object\n",
            "\n",
            "Column Index: 46\n",
            "Column: Preferred Study Methods(Participating in group study sessions or study groups)\n",
            "Unique Values: ['No' 'Yes']\n",
            "Data Type: object\n",
            "\n",
            "Column Index: 47\n",
            "Column: Preferred Study Methods(Reading textbooks and lecture notes)\n",
            "Unique Values: ['Yes' 'No']\n",
            "Data Type: object\n",
            "\n",
            "Column Index: 48\n",
            "Column: Preferred Study Methods(Taking notes and reviewing them regularly)\n",
            "Unique Values: ['No' 'Yes']\n",
            "Data Type: object\n",
            "\n",
            "Column Index: 49\n",
            "Column: Preferred Study Methods(Other (please specify))\n",
            "Unique Values: ['No' 'Yes']\n",
            "Data Type: object\n",
            "\n",
            "Column Index: 50\n",
            "Column: Preferred Study Methods(Watching educational videos or tutorials)\n",
            "Unique Values: ['No' 'Yes']\n",
            "Data Type: object\n",
            "\n",
            "Column Index: 51\n",
            "Column: Preferred Study Methods(Utilizing online resources or interactive learning platforms)\n",
            "Unique Values: ['No' 'Yes']\n",
            "Data Type: object\n",
            "\n",
            "Column Index: 52\n",
            "Column: Academic Challenges(Participation in Class)\n",
            "Unique Values: ['No' 'Yes']\n",
            "Data Type: object\n",
            "\n",
            "Column Index: 53\n",
            "Column: Academic Challenges( Understanding Course Material)\n",
            "Unique Values: ['No' 'Yes']\n",
            "Data Type: object\n",
            "\n",
            "Column Index: 54\n",
            "Column: Academic Challenges(Critical Thinking)\n",
            "Unique Values: ['No' 'Yes']\n",
            "Data Type: object\n",
            "\n",
            "Column Index: 55\n",
            "Column: Academic Challenges(Technical Skills)\n",
            "Unique Values: ['No' 'Yes']\n",
            "Data Type: object\n",
            "\n",
            "Column Index: 56\n",
            "Column: Academic Challenges(Language Barriers)\n",
            "Unique Values: ['No' 'Yes']\n",
            "Data Type: object\n",
            "\n",
            "Column Index: 57\n",
            "Column: Academic Challenges(Time Management)\n",
            "Unique Values: ['No' 'Yes']\n",
            "Data Type: object\n",
            "\n",
            "Column Index: 58\n",
            "Column: Extracurricular Participation(Student government or leadership positions)\n",
            "Unique Values: ['No' 'Yes']\n",
            "Data Type: object\n",
            "\n",
            "Column Index: 59\n",
            "Column: Extracurricular Participation(Community service organizations)\n",
            "Unique Values: ['No' 'Yes']\n",
            "Data Type: object\n",
            "\n",
            "Column Index: 60\n",
            "Column: Extracurricular Participation(Arts clubs)\n",
            "Unique Values: ['No' 'Yes']\n",
            "Data Type: object\n",
            "\n",
            "Column Index: 61\n",
            "Column: Extracurricular Participation(Special interest clubs)\n",
            "Unique Values: ['No' 'Yes']\n",
            "Data Type: object\n",
            "\n",
            "Column Index: 62\n",
            "Column: Extracurricular Participation(Academic clubs)\n",
            "Unique Values: ['No' 'Yes']\n",
            "Data Type: object\n",
            "\n",
            "Column Index: 63\n",
            "Column: Extracurricular Participation(Sports teams)\n",
            "Unique Values: ['No' 'Yes']\n",
            "Data Type: object\n",
            "\n",
            "Column Index: 64\n",
            "Column: Extracurricular Participation(None of the above / Not involved in any extracurricular activities)\n",
            "Unique Values: ['Yes' 'No']\n",
            "Data Type: object\n",
            "\n",
            "Column Index: 65\n",
            "Column: Dropout\n",
            "Unique Values: ['Yes' 'No']\n",
            "Data Type: object\n",
            "\n"
          ]
        }
      ],
      "source": [
        "for idx, column in enumerate(df.columns):\n",
        "    unique_values = df[column].unique()\n",
        "    column_type = df[column].dtype\n",
        "    print(f\"Column Index: {idx}\")\n",
        "    print(f\"Column: {column}\")\n",
        "    print(f\"Unique Values: {unique_values}\")\n",
        "    print(f\"Data Type: {column_type}\\n\")"
      ]
    },
    {
      "cell_type": "code",
      "execution_count": null,
      "metadata": {
        "id": "Df7tmSZqJkTh"
      },
      "outputs": [],
      "source": [
        "X=df.drop(columns='Dropout')\n",
        "Y=df['Dropout']"
      ]
    },
    {
      "cell_type": "code",
      "execution_count": null,
      "metadata": {
        "colab": {
          "base_uri": "https://localhost:8080/"
        },
        "id": "XgnCOj7hiXmj",
        "outputId": "86a9d65c-be73-442e-8e8d-0a7cd88ec9b9"
      },
      "outputs": [
        {
          "data": {
            "text/plain": [
              "(1144, 65)"
            ]
          },
          "execution_count": 115,
          "metadata": {},
          "output_type": "execute_result"
        }
      ],
      "source": [
        "X.shape"
      ]
    },
    {
      "cell_type": "code",
      "execution_count": null,
      "metadata": {
        "colab": {
          "base_uri": "https://localhost:8080/"
        },
        "id": "PXLz9nVcia7b",
        "outputId": "62f6860b-3282-4123-ea66-9f82fb99d70c"
      },
      "outputs": [
        {
          "data": {
            "text/plain": [
              "(1144,)"
            ]
          },
          "execution_count": 116,
          "metadata": {},
          "output_type": "execute_result"
        }
      ],
      "source": [
        "Y.shape"
      ]
    },
    {
      "cell_type": "markdown",
      "metadata": {
        "id": "6MeIsecHQJEU"
      },
      "source": [
        "encoding"
      ]
    },
    {
      "cell_type": "code",
      "execution_count": null,
      "metadata": {
        "id": "nw986CQlKAMb"
      },
      "outputs": [],
      "source": [
        "import pandas as pd\n",
        "from sklearn.preprocessing import OrdinalEncoder, OneHotEncoder, LabelEncoder"
      ]
    },
    {
      "cell_type": "code",
      "execution_count": null,
      "metadata": {
        "id": "ZeRGubTJJtnR"
      },
      "outputs": [],
      "source": [
        "ordinal_categories = {\n",
        "    'Education Level': ['1st Year', '2nd Year', '3rd Year', '4th Year'],\n",
        "    'CGPA Comparison': ['Lower', 'Similar', 'Higher'],\n",
        "    'Average Course Grade Range': ['2.26 - 2.50', '2.51 - 2.75', '2.76 - 3.00', '3.00 - 3.25', '3.26 - 3.50', '3.51 - 3.75', '3.76 - 4.00'],\n",
        "    'Weekly Study Hours': ['1-5', '5-10', '6-10', '11-15', '16-20', 'More then 20'],\n",
        "    'Job Status': ['No', 'Part-time', 'Full-time'],\n",
        "    'Travel Time to Campus': ['0-1', '1-2', '2-3', '3-4', '4-5', '5-6'],\n",
        "    'Average Sleep Hours': ['2-4', '4-6', '6-8', '8-10'],\n",
        "    'Regular Workout': ['No', 'Sometimes', 'Yes'],\n",
        "    'Physical Health': ['Poor', 'Fair', 'Good', 'Excellent'],\n",
        "    'Tuition Satisfaction': ['Very Dissatisfied', 'Dissatisfied', 'Neutral', 'Satisfied', 'Very satisfied'],\n",
        "    'Social Media Time': ['1-2', '3-4', '5-6', '7-8']\n",
        "}\n",
        "\n",
        "# Ordinal encoding\n",
        "ordinal_enc = OrdinalEncoder(categories=[ordinal_categories[col] for col in ordinal_categories.keys()])\n",
        "X[list(ordinal_categories.keys())] = ordinal_enc.fit_transform(X[list(ordinal_categories.keys())])\n"
      ]
    },
    {
      "cell_type": "code",
      "execution_count": null,
      "metadata": {
        "colab": {
          "base_uri": "https://localhost:8080/",
          "height": 756
        },
        "id": "SgEn8VHHKCD7",
        "outputId": "f248a6f4-6fc4-437a-f04c-72adcb1f1006"
      },
      "outputs": [
        {
          "data": {
            "application/vnd.google.colaboratory.intrinsic+json": {
              "type": "dataframe",
              "variable_name": "X"
            },
            "text/html": [
              "\n",
              "  <div id=\"df-5c43e9d8-9358-4b30-905a-8924c45669f8\" class=\"colab-df-container\">\n",
              "    <div>\n",
              "<style scoped>\n",
              "    .dataframe tbody tr th:only-of-type {\n",
              "        vertical-align: middle;\n",
              "    }\n",
              "\n",
              "    .dataframe tbody tr th {\n",
              "        vertical-align: top;\n",
              "    }\n",
              "\n",
              "    .dataframe thead th {\n",
              "        text-align: right;\n",
              "    }\n",
              "</style>\n",
              "<table border=\"1\" class=\"dataframe\">\n",
              "  <thead>\n",
              "    <tr style=\"text-align: right;\">\n",
              "      <th></th>\n",
              "      <th>Student Number</th>\n",
              "      <th>Age</th>\n",
              "      <th>Gender</th>\n",
              "      <th>Education Level</th>\n",
              "      <th>Major/Field of Study</th>\n",
              "      <th>Department Selection</th>\n",
              "      <th>CGPA</th>\n",
              "      <th>CGPA Comparison</th>\n",
              "      <th>Average Course Grade Range</th>\n",
              "      <th>Questions Understandable</th>\n",
              "      <th>...</th>\n",
              "      <th>Academic Challenges(Technical Skills)</th>\n",
              "      <th>Academic Challenges(Language Barriers)</th>\n",
              "      <th>Academic Challenges(Time Management)</th>\n",
              "      <th>Extracurricular Participation(Student government or leadership positions)</th>\n",
              "      <th>Extracurricular Participation(Community service organizations)</th>\n",
              "      <th>Extracurricular Participation(Arts clubs)</th>\n",
              "      <th>Extracurricular Participation(Special interest clubs)</th>\n",
              "      <th>Extracurricular Participation(Academic clubs)</th>\n",
              "      <th>Extracurricular Participation(Sports teams)</th>\n",
              "      <th>Extracurricular Participation(None of the above / Not involved in any extracurricular activities)</th>\n",
              "    </tr>\n",
              "  </thead>\n",
              "  <tbody>\n",
              "    <tr>\n",
              "      <th>0</th>\n",
              "      <td>1</td>\n",
              "      <td>22</td>\n",
              "      <td>Male</td>\n",
              "      <td>0.0</td>\n",
              "      <td>Computer Science and Engineering</td>\n",
              "      <td>Forcefully Given</td>\n",
              "      <td>3.00</td>\n",
              "      <td>1.0</td>\n",
              "      <td>2.0</td>\n",
              "      <td>No</td>\n",
              "      <td>...</td>\n",
              "      <td>No</td>\n",
              "      <td>No</td>\n",
              "      <td>No</td>\n",
              "      <td>No</td>\n",
              "      <td>No</td>\n",
              "      <td>No</td>\n",
              "      <td>No</td>\n",
              "      <td>No</td>\n",
              "      <td>No</td>\n",
              "      <td>Yes</td>\n",
              "    </tr>\n",
              "    <tr>\n",
              "      <th>1</th>\n",
              "      <td>2</td>\n",
              "      <td>23</td>\n",
              "      <td>Female</td>\n",
              "      <td>2.0</td>\n",
              "      <td>BFA</td>\n",
              "      <td>Personal Choice</td>\n",
              "      <td>3.58</td>\n",
              "      <td>0.0</td>\n",
              "      <td>5.0</td>\n",
              "      <td>Yes</td>\n",
              "      <td>...</td>\n",
              "      <td>No</td>\n",
              "      <td>No</td>\n",
              "      <td>Yes</td>\n",
              "      <td>No</td>\n",
              "      <td>No</td>\n",
              "      <td>Yes</td>\n",
              "      <td>No</td>\n",
              "      <td>No</td>\n",
              "      <td>No</td>\n",
              "      <td>No</td>\n",
              "    </tr>\n",
              "    <tr>\n",
              "      <th>2</th>\n",
              "      <td>3</td>\n",
              "      <td>22</td>\n",
              "      <td>Female</td>\n",
              "      <td>2.0</td>\n",
              "      <td>GDM</td>\n",
              "      <td>Personal Choice</td>\n",
              "      <td>3.76</td>\n",
              "      <td>2.0</td>\n",
              "      <td>5.0</td>\n",
              "      <td>Yes</td>\n",
              "      <td>...</td>\n",
              "      <td>Yes</td>\n",
              "      <td>Yes</td>\n",
              "      <td>No</td>\n",
              "      <td>No</td>\n",
              "      <td>No</td>\n",
              "      <td>No</td>\n",
              "      <td>Yes</td>\n",
              "      <td>No</td>\n",
              "      <td>No</td>\n",
              "      <td>No</td>\n",
              "    </tr>\n",
              "    <tr>\n",
              "      <th>3</th>\n",
              "      <td>4</td>\n",
              "      <td>23</td>\n",
              "      <td>Male</td>\n",
              "      <td>2.0</td>\n",
              "      <td>Computer Science and Engineering</td>\n",
              "      <td>Forcefully Given</td>\n",
              "      <td>2.98</td>\n",
              "      <td>0.0</td>\n",
              "      <td>2.0</td>\n",
              "      <td>No</td>\n",
              "      <td>...</td>\n",
              "      <td>No</td>\n",
              "      <td>No</td>\n",
              "      <td>No</td>\n",
              "      <td>No</td>\n",
              "      <td>No</td>\n",
              "      <td>No</td>\n",
              "      <td>Yes</td>\n",
              "      <td>No</td>\n",
              "      <td>No</td>\n",
              "      <td>No</td>\n",
              "    </tr>\n",
              "    <tr>\n",
              "      <th>4</th>\n",
              "      <td>5</td>\n",
              "      <td>22</td>\n",
              "      <td>Male</td>\n",
              "      <td>1.0</td>\n",
              "      <td>EEE</td>\n",
              "      <td>Personal Choice</td>\n",
              "      <td>3.39</td>\n",
              "      <td>1.0</td>\n",
              "      <td>4.0</td>\n",
              "      <td>Average</td>\n",
              "      <td>...</td>\n",
              "      <td>No</td>\n",
              "      <td>No</td>\n",
              "      <td>Yes</td>\n",
              "      <td>No</td>\n",
              "      <td>No</td>\n",
              "      <td>No</td>\n",
              "      <td>No</td>\n",
              "      <td>No</td>\n",
              "      <td>No</td>\n",
              "      <td>Yes</td>\n",
              "    </tr>\n",
              "    <tr>\n",
              "      <th>...</th>\n",
              "      <td>...</td>\n",
              "      <td>...</td>\n",
              "      <td>...</td>\n",
              "      <td>...</td>\n",
              "      <td>...</td>\n",
              "      <td>...</td>\n",
              "      <td>...</td>\n",
              "      <td>...</td>\n",
              "      <td>...</td>\n",
              "      <td>...</td>\n",
              "      <td>...</td>\n",
              "      <td>...</td>\n",
              "      <td>...</td>\n",
              "      <td>...</td>\n",
              "      <td>...</td>\n",
              "      <td>...</td>\n",
              "      <td>...</td>\n",
              "      <td>...</td>\n",
              "      <td>...</td>\n",
              "      <td>...</td>\n",
              "      <td>...</td>\n",
              "    </tr>\n",
              "    <tr>\n",
              "      <th>1139</th>\n",
              "      <td>1140</td>\n",
              "      <td>23</td>\n",
              "      <td>Male</td>\n",
              "      <td>0.0</td>\n",
              "      <td>Computer Science and Engineering</td>\n",
              "      <td>Personal Choice</td>\n",
              "      <td>2.84</td>\n",
              "      <td>0.0</td>\n",
              "      <td>4.0</td>\n",
              "      <td>No</td>\n",
              "      <td>...</td>\n",
              "      <td>No</td>\n",
              "      <td>No</td>\n",
              "      <td>Yes</td>\n",
              "      <td>No</td>\n",
              "      <td>No</td>\n",
              "      <td>No</td>\n",
              "      <td>No</td>\n",
              "      <td>No</td>\n",
              "      <td>No</td>\n",
              "      <td>Yes</td>\n",
              "    </tr>\n",
              "    <tr>\n",
              "      <th>1140</th>\n",
              "      <td>1141</td>\n",
              "      <td>21</td>\n",
              "      <td>Male</td>\n",
              "      <td>2.0</td>\n",
              "      <td>Fisheries</td>\n",
              "      <td>Forcefully Given</td>\n",
              "      <td>2.81</td>\n",
              "      <td>1.0</td>\n",
              "      <td>3.0</td>\n",
              "      <td>Yes</td>\n",
              "      <td>...</td>\n",
              "      <td>Yes</td>\n",
              "      <td>Yes</td>\n",
              "      <td>No</td>\n",
              "      <td>No</td>\n",
              "      <td>No</td>\n",
              "      <td>No</td>\n",
              "      <td>No</td>\n",
              "      <td>No</td>\n",
              "      <td>No</td>\n",
              "      <td>Yes</td>\n",
              "    </tr>\n",
              "    <tr>\n",
              "      <th>1141</th>\n",
              "      <td>1142</td>\n",
              "      <td>22</td>\n",
              "      <td>Female</td>\n",
              "      <td>1.0</td>\n",
              "      <td>EEE</td>\n",
              "      <td>Personal Choice</td>\n",
              "      <td>2.76</td>\n",
              "      <td>1.0</td>\n",
              "      <td>2.0</td>\n",
              "      <td>Yes</td>\n",
              "      <td>...</td>\n",
              "      <td>Yes</td>\n",
              "      <td>Yes</td>\n",
              "      <td>No</td>\n",
              "      <td>No</td>\n",
              "      <td>No</td>\n",
              "      <td>No</td>\n",
              "      <td>No</td>\n",
              "      <td>No</td>\n",
              "      <td>Yes</td>\n",
              "      <td>No</td>\n",
              "    </tr>\n",
              "    <tr>\n",
              "      <th>1142</th>\n",
              "      <td>1143</td>\n",
              "      <td>20</td>\n",
              "      <td>Male</td>\n",
              "      <td>1.0</td>\n",
              "      <td>BBA</td>\n",
              "      <td>Personal Choice</td>\n",
              "      <td>2.87</td>\n",
              "      <td>2.0</td>\n",
              "      <td>3.0</td>\n",
              "      <td>No</td>\n",
              "      <td>...</td>\n",
              "      <td>No</td>\n",
              "      <td>Yes</td>\n",
              "      <td>No</td>\n",
              "      <td>Yes</td>\n",
              "      <td>No</td>\n",
              "      <td>No</td>\n",
              "      <td>No</td>\n",
              "      <td>No</td>\n",
              "      <td>No</td>\n",
              "      <td>No</td>\n",
              "    </tr>\n",
              "    <tr>\n",
              "      <th>1143</th>\n",
              "      <td>1144</td>\n",
              "      <td>20</td>\n",
              "      <td>Male</td>\n",
              "      <td>0.0</td>\n",
              "      <td>EEE</td>\n",
              "      <td>Personal Choice</td>\n",
              "      <td>2.76</td>\n",
              "      <td>1.0</td>\n",
              "      <td>5.0</td>\n",
              "      <td>Average</td>\n",
              "      <td>...</td>\n",
              "      <td>Yes</td>\n",
              "      <td>Yes</td>\n",
              "      <td>No</td>\n",
              "      <td>No</td>\n",
              "      <td>No</td>\n",
              "      <td>No</td>\n",
              "      <td>No</td>\n",
              "      <td>No</td>\n",
              "      <td>Yes</td>\n",
              "      <td>No</td>\n",
              "    </tr>\n",
              "  </tbody>\n",
              "</table>\n",
              "<p>1144 rows × 65 columns</p>\n",
              "</div>\n",
              "    <div class=\"colab-df-buttons\">\n",
              "\n",
              "  <div class=\"colab-df-container\">\n",
              "    <button class=\"colab-df-convert\" onclick=\"convertToInteractive('df-5c43e9d8-9358-4b30-905a-8924c45669f8')\"\n",
              "            title=\"Convert this dataframe to an interactive table.\"\n",
              "            style=\"display:none;\">\n",
              "\n",
              "  <svg xmlns=\"http://www.w3.org/2000/svg\" height=\"24px\" viewBox=\"0 -960 960 960\">\n",
              "    <path d=\"M120-120v-720h720v720H120Zm60-500h600v-160H180v160Zm220 220h160v-160H400v160Zm0 220h160v-160H400v160ZM180-400h160v-160H180v160Zm440 0h160v-160H620v160ZM180-180h160v-160H180v160Zm440 0h160v-160H620v160Z\"/>\n",
              "  </svg>\n",
              "    </button>\n",
              "\n",
              "  <style>\n",
              "    .colab-df-container {\n",
              "      display:flex;\n",
              "      gap: 12px;\n",
              "    }\n",
              "\n",
              "    .colab-df-convert {\n",
              "      background-color: #E8F0FE;\n",
              "      border: none;\n",
              "      border-radius: 50%;\n",
              "      cursor: pointer;\n",
              "      display: none;\n",
              "      fill: #1967D2;\n",
              "      height: 32px;\n",
              "      padding: 0 0 0 0;\n",
              "      width: 32px;\n",
              "    }\n",
              "\n",
              "    .colab-df-convert:hover {\n",
              "      background-color: #E2EBFA;\n",
              "      box-shadow: 0px 1px 2px rgba(60, 64, 67, 0.3), 0px 1px 3px 1px rgba(60, 64, 67, 0.15);\n",
              "      fill: #174EA6;\n",
              "    }\n",
              "\n",
              "    .colab-df-buttons div {\n",
              "      margin-bottom: 4px;\n",
              "    }\n",
              "\n",
              "    [theme=dark] .colab-df-convert {\n",
              "      background-color: #3B4455;\n",
              "      fill: #D2E3FC;\n",
              "    }\n",
              "\n",
              "    [theme=dark] .colab-df-convert:hover {\n",
              "      background-color: #434B5C;\n",
              "      box-shadow: 0px 1px 3px 1px rgba(0, 0, 0, 0.15);\n",
              "      filter: drop-shadow(0px 1px 2px rgba(0, 0, 0, 0.3));\n",
              "      fill: #FFFFFF;\n",
              "    }\n",
              "  </style>\n",
              "\n",
              "    <script>\n",
              "      const buttonEl =\n",
              "        document.querySelector('#df-5c43e9d8-9358-4b30-905a-8924c45669f8 button.colab-df-convert');\n",
              "      buttonEl.style.display =\n",
              "        google.colab.kernel.accessAllowed ? 'block' : 'none';\n",
              "\n",
              "      async function convertToInteractive(key) {\n",
              "        const element = document.querySelector('#df-5c43e9d8-9358-4b30-905a-8924c45669f8');\n",
              "        const dataTable =\n",
              "          await google.colab.kernel.invokeFunction('convertToInteractive',\n",
              "                                                    [key], {});\n",
              "        if (!dataTable) return;\n",
              "\n",
              "        const docLinkHtml = 'Like what you see? Visit the ' +\n",
              "          '<a target=\"_blank\" href=https://colab.research.google.com/notebooks/data_table.ipynb>data table notebook</a>'\n",
              "          + ' to learn more about interactive tables.';\n",
              "        element.innerHTML = '';\n",
              "        dataTable['output_type'] = 'display_data';\n",
              "        await google.colab.output.renderOutput(dataTable, element);\n",
              "        const docLink = document.createElement('div');\n",
              "        docLink.innerHTML = docLinkHtml;\n",
              "        element.appendChild(docLink);\n",
              "      }\n",
              "    </script>\n",
              "  </div>\n",
              "\n",
              "\n",
              "<div id=\"df-bf095786-8046-4535-8736-4d825602c693\">\n",
              "  <button class=\"colab-df-quickchart\" onclick=\"quickchart('df-bf095786-8046-4535-8736-4d825602c693')\"\n",
              "            title=\"Suggest charts\"\n",
              "            style=\"display:none;\">\n",
              "\n",
              "<svg xmlns=\"http://www.w3.org/2000/svg\" height=\"24px\"viewBox=\"0 0 24 24\"\n",
              "     width=\"24px\">\n",
              "    <g>\n",
              "        <path d=\"M19 3H5c-1.1 0-2 .9-2 2v14c0 1.1.9 2 2 2h14c1.1 0 2-.9 2-2V5c0-1.1-.9-2-2-2zM9 17H7v-7h2v7zm4 0h-2V7h2v10zm4 0h-2v-4h2v4z\"/>\n",
              "    </g>\n",
              "</svg>\n",
              "  </button>\n",
              "\n",
              "<style>\n",
              "  .colab-df-quickchart {\n",
              "      --bg-color: #E8F0FE;\n",
              "      --fill-color: #1967D2;\n",
              "      --hover-bg-color: #E2EBFA;\n",
              "      --hover-fill-color: #174EA6;\n",
              "      --disabled-fill-color: #AAA;\n",
              "      --disabled-bg-color: #DDD;\n",
              "  }\n",
              "\n",
              "  [theme=dark] .colab-df-quickchart {\n",
              "      --bg-color: #3B4455;\n",
              "      --fill-color: #D2E3FC;\n",
              "      --hover-bg-color: #434B5C;\n",
              "      --hover-fill-color: #FFFFFF;\n",
              "      --disabled-bg-color: #3B4455;\n",
              "      --disabled-fill-color: #666;\n",
              "  }\n",
              "\n",
              "  .colab-df-quickchart {\n",
              "    background-color: var(--bg-color);\n",
              "    border: none;\n",
              "    border-radius: 50%;\n",
              "    cursor: pointer;\n",
              "    display: none;\n",
              "    fill: var(--fill-color);\n",
              "    height: 32px;\n",
              "    padding: 0;\n",
              "    width: 32px;\n",
              "  }\n",
              "\n",
              "  .colab-df-quickchart:hover {\n",
              "    background-color: var(--hover-bg-color);\n",
              "    box-shadow: 0 1px 2px rgba(60, 64, 67, 0.3), 0 1px 3px 1px rgba(60, 64, 67, 0.15);\n",
              "    fill: var(--button-hover-fill-color);\n",
              "  }\n",
              "\n",
              "  .colab-df-quickchart-complete:disabled,\n",
              "  .colab-df-quickchart-complete:disabled:hover {\n",
              "    background-color: var(--disabled-bg-color);\n",
              "    fill: var(--disabled-fill-color);\n",
              "    box-shadow: none;\n",
              "  }\n",
              "\n",
              "  .colab-df-spinner {\n",
              "    border: 2px solid var(--fill-color);\n",
              "    border-color: transparent;\n",
              "    border-bottom-color: var(--fill-color);\n",
              "    animation:\n",
              "      spin 1s steps(1) infinite;\n",
              "  }\n",
              "\n",
              "  @keyframes spin {\n",
              "    0% {\n",
              "      border-color: transparent;\n",
              "      border-bottom-color: var(--fill-color);\n",
              "      border-left-color: var(--fill-color);\n",
              "    }\n",
              "    20% {\n",
              "      border-color: transparent;\n",
              "      border-left-color: var(--fill-color);\n",
              "      border-top-color: var(--fill-color);\n",
              "    }\n",
              "    30% {\n",
              "      border-color: transparent;\n",
              "      border-left-color: var(--fill-color);\n",
              "      border-top-color: var(--fill-color);\n",
              "      border-right-color: var(--fill-color);\n",
              "    }\n",
              "    40% {\n",
              "      border-color: transparent;\n",
              "      border-right-color: var(--fill-color);\n",
              "      border-top-color: var(--fill-color);\n",
              "    }\n",
              "    60% {\n",
              "      border-color: transparent;\n",
              "      border-right-color: var(--fill-color);\n",
              "    }\n",
              "    80% {\n",
              "      border-color: transparent;\n",
              "      border-right-color: var(--fill-color);\n",
              "      border-bottom-color: var(--fill-color);\n",
              "    }\n",
              "    90% {\n",
              "      border-color: transparent;\n",
              "      border-bottom-color: var(--fill-color);\n",
              "    }\n",
              "  }\n",
              "</style>\n",
              "\n",
              "  <script>\n",
              "    async function quickchart(key) {\n",
              "      const quickchartButtonEl =\n",
              "        document.querySelector('#' + key + ' button');\n",
              "      quickchartButtonEl.disabled = true;  // To prevent multiple clicks.\n",
              "      quickchartButtonEl.classList.add('colab-df-spinner');\n",
              "      try {\n",
              "        const charts = await google.colab.kernel.invokeFunction(\n",
              "            'suggestCharts', [key], {});\n",
              "      } catch (error) {\n",
              "        console.error('Error during call to suggestCharts:', error);\n",
              "      }\n",
              "      quickchartButtonEl.classList.remove('colab-df-spinner');\n",
              "      quickchartButtonEl.classList.add('colab-df-quickchart-complete');\n",
              "    }\n",
              "    (() => {\n",
              "      let quickchartButtonEl =\n",
              "        document.querySelector('#df-bf095786-8046-4535-8736-4d825602c693 button');\n",
              "      quickchartButtonEl.style.display =\n",
              "        google.colab.kernel.accessAllowed ? 'block' : 'none';\n",
              "    })();\n",
              "  </script>\n",
              "</div>\n",
              "\n",
              "  <div id=\"id_625a0245-97d6-4eff-89f2-eb2172bf0088\">\n",
              "    <style>\n",
              "      .colab-df-generate {\n",
              "        background-color: #E8F0FE;\n",
              "        border: none;\n",
              "        border-radius: 50%;\n",
              "        cursor: pointer;\n",
              "        display: none;\n",
              "        fill: #1967D2;\n",
              "        height: 32px;\n",
              "        padding: 0 0 0 0;\n",
              "        width: 32px;\n",
              "      }\n",
              "\n",
              "      .colab-df-generate:hover {\n",
              "        background-color: #E2EBFA;\n",
              "        box-shadow: 0px 1px 2px rgba(60, 64, 67, 0.3), 0px 1px 3px 1px rgba(60, 64, 67, 0.15);\n",
              "        fill: #174EA6;\n",
              "      }\n",
              "\n",
              "      [theme=dark] .colab-df-generate {\n",
              "        background-color: #3B4455;\n",
              "        fill: #D2E3FC;\n",
              "      }\n",
              "\n",
              "      [theme=dark] .colab-df-generate:hover {\n",
              "        background-color: #434B5C;\n",
              "        box-shadow: 0px 1px 3px 1px rgba(0, 0, 0, 0.15);\n",
              "        filter: drop-shadow(0px 1px 2px rgba(0, 0, 0, 0.3));\n",
              "        fill: #FFFFFF;\n",
              "      }\n",
              "    </style>\n",
              "    <button class=\"colab-df-generate\" onclick=\"generateWithVariable('X')\"\n",
              "            title=\"Generate code using this dataframe.\"\n",
              "            style=\"display:none;\">\n",
              "\n",
              "  <svg xmlns=\"http://www.w3.org/2000/svg\" height=\"24px\"viewBox=\"0 0 24 24\"\n",
              "       width=\"24px\">\n",
              "    <path d=\"M7,19H8.4L18.45,9,17,7.55,7,17.6ZM5,21V16.75L18.45,3.32a2,2,0,0,1,2.83,0l1.4,1.43a1.91,1.91,0,0,1,.58,1.4,1.91,1.91,0,0,1-.58,1.4L9.25,21ZM18.45,9,17,7.55Zm-12,3A5.31,5.31,0,0,0,4.9,8.1,5.31,5.31,0,0,0,1,6.5,5.31,5.31,0,0,0,4.9,4.9,5.31,5.31,0,0,0,6.5,1,5.31,5.31,0,0,0,8.1,4.9,5.31,5.31,0,0,0,12,6.5,5.46,5.46,0,0,0,6.5,12Z\"/>\n",
              "  </svg>\n",
              "    </button>\n",
              "    <script>\n",
              "      (() => {\n",
              "      const buttonEl =\n",
              "        document.querySelector('#id_625a0245-97d6-4eff-89f2-eb2172bf0088 button.colab-df-generate');\n",
              "      buttonEl.style.display =\n",
              "        google.colab.kernel.accessAllowed ? 'block' : 'none';\n",
              "\n",
              "      buttonEl.onclick = () => {\n",
              "        google.colab.notebook.generateWithVariable('X');\n",
              "      }\n",
              "      })();\n",
              "    </script>\n",
              "  </div>\n",
              "\n",
              "    </div>\n",
              "  </div>\n"
            ],
            "text/plain": [
              "      Student Number  Age  Gender  Education Level  \\\n",
              "0                  1   22    Male              0.0   \n",
              "1                  2   23  Female              2.0   \n",
              "2                  3   22  Female              2.0   \n",
              "3                  4   23    Male              2.0   \n",
              "4                  5   22    Male              1.0   \n",
              "...              ...  ...     ...              ...   \n",
              "1139            1140   23    Male              0.0   \n",
              "1140            1141   21    Male              2.0   \n",
              "1141            1142   22  Female              1.0   \n",
              "1142            1143   20    Male              1.0   \n",
              "1143            1144   20    Male              0.0   \n",
              "\n",
              "                  Major/Field of Study Department Selection  CGPA  \\\n",
              "0     Computer Science and Engineering     Forcefully Given  3.00   \n",
              "1                                  BFA      Personal Choice  3.58   \n",
              "2                                  GDM      Personal Choice  3.76   \n",
              "3     Computer Science and Engineering     Forcefully Given  2.98   \n",
              "4                                  EEE      Personal Choice  3.39   \n",
              "...                                ...                  ...   ...   \n",
              "1139  Computer Science and Engineering      Personal Choice  2.84   \n",
              "1140                         Fisheries     Forcefully Given  2.81   \n",
              "1141                               EEE      Personal Choice  2.76   \n",
              "1142                               BBA      Personal Choice  2.87   \n",
              "1143                               EEE      Personal Choice  2.76   \n",
              "\n",
              "      CGPA Comparison  Average Course Grade Range Questions Understandable  \\\n",
              "0                 1.0                         2.0                       No   \n",
              "1                 0.0                         5.0                      Yes   \n",
              "2                 2.0                         5.0                      Yes   \n",
              "3                 0.0                         2.0                       No   \n",
              "4                 1.0                         4.0                  Average   \n",
              "...               ...                         ...                      ...   \n",
              "1139              0.0                         4.0                       No   \n",
              "1140              1.0                         3.0                      Yes   \n",
              "1141              1.0                         2.0                      Yes   \n",
              "1142              2.0                         3.0                       No   \n",
              "1143              1.0                         5.0                  Average   \n",
              "\n",
              "      ... Academic Challenges(Technical Skills)  \\\n",
              "0     ...                                    No   \n",
              "1     ...                                    No   \n",
              "2     ...                                   Yes   \n",
              "3     ...                                    No   \n",
              "4     ...                                    No   \n",
              "...   ...                                   ...   \n",
              "1139  ...                                    No   \n",
              "1140  ...                                   Yes   \n",
              "1141  ...                                   Yes   \n",
              "1142  ...                                    No   \n",
              "1143  ...                                   Yes   \n",
              "\n",
              "     Academic Challenges(Language Barriers)  \\\n",
              "0                                        No   \n",
              "1                                        No   \n",
              "2                                       Yes   \n",
              "3                                        No   \n",
              "4                                        No   \n",
              "...                                     ...   \n",
              "1139                                     No   \n",
              "1140                                    Yes   \n",
              "1141                                    Yes   \n",
              "1142                                    Yes   \n",
              "1143                                    Yes   \n",
              "\n",
              "      Academic Challenges(Time Management)  \\\n",
              "0                                       No   \n",
              "1                                      Yes   \n",
              "2                                       No   \n",
              "3                                       No   \n",
              "4                                      Yes   \n",
              "...                                    ...   \n",
              "1139                                   Yes   \n",
              "1140                                    No   \n",
              "1141                                    No   \n",
              "1142                                    No   \n",
              "1143                                    No   \n",
              "\n",
              "     Extracurricular Participation(Student government or leadership positions)  \\\n",
              "0                                                    No                          \n",
              "1                                                    No                          \n",
              "2                                                    No                          \n",
              "3                                                    No                          \n",
              "4                                                    No                          \n",
              "...                                                 ...                          \n",
              "1139                                                 No                          \n",
              "1140                                                 No                          \n",
              "1141                                                 No                          \n",
              "1142                                                Yes                          \n",
              "1143                                                 No                          \n",
              "\n",
              "      Extracurricular Participation(Community service organizations)  \\\n",
              "0                                                    No                \n",
              "1                                                    No                \n",
              "2                                                    No                \n",
              "3                                                    No                \n",
              "4                                                    No                \n",
              "...                                                 ...                \n",
              "1139                                                 No                \n",
              "1140                                                 No                \n",
              "1141                                                 No                \n",
              "1142                                                 No                \n",
              "1143                                                 No                \n",
              "\n",
              "     Extracurricular Participation(Arts clubs)  \\\n",
              "0                                           No   \n",
              "1                                          Yes   \n",
              "2                                           No   \n",
              "3                                           No   \n",
              "4                                           No   \n",
              "...                                        ...   \n",
              "1139                                        No   \n",
              "1140                                        No   \n",
              "1141                                        No   \n",
              "1142                                        No   \n",
              "1143                                        No   \n",
              "\n",
              "      Extracurricular Participation(Special interest clubs)  \\\n",
              "0                                                    No       \n",
              "1                                                    No       \n",
              "2                                                   Yes       \n",
              "3                                                   Yes       \n",
              "4                                                    No       \n",
              "...                                                 ...       \n",
              "1139                                                 No       \n",
              "1140                                                 No       \n",
              "1141                                                 No       \n",
              "1142                                                 No       \n",
              "1143                                                 No       \n",
              "\n",
              "     Extracurricular Participation(Academic clubs)  \\\n",
              "0                                               No   \n",
              "1                                               No   \n",
              "2                                               No   \n",
              "3                                               No   \n",
              "4                                               No   \n",
              "...                                            ...   \n",
              "1139                                            No   \n",
              "1140                                            No   \n",
              "1141                                            No   \n",
              "1142                                            No   \n",
              "1143                                            No   \n",
              "\n",
              "     Extracurricular Participation(Sports teams)  \\\n",
              "0                                             No   \n",
              "1                                             No   \n",
              "2                                             No   \n",
              "3                                             No   \n",
              "4                                             No   \n",
              "...                                          ...   \n",
              "1139                                          No   \n",
              "1140                                          No   \n",
              "1141                                         Yes   \n",
              "1142                                          No   \n",
              "1143                                         Yes   \n",
              "\n",
              "      Extracurricular Participation(None of the above / Not involved in any extracurricular activities)  \n",
              "0                                                   Yes                                                  \n",
              "1                                                    No                                                  \n",
              "2                                                    No                                                  \n",
              "3                                                    No                                                  \n",
              "4                                                   Yes                                                  \n",
              "...                                                 ...                                                  \n",
              "1139                                                Yes                                                  \n",
              "1140                                                Yes                                                  \n",
              "1141                                                 No                                                  \n",
              "1142                                                 No                                                  \n",
              "1143                                                 No                                                  \n",
              "\n",
              "[1144 rows x 65 columns]"
            ]
          },
          "execution_count": 119,
          "metadata": {},
          "output_type": "execute_result"
        }
      ],
      "source": [
        "X"
      ]
    },
    {
      "cell_type": "code",
      "execution_count": null,
      "metadata": {
        "colab": {
          "base_uri": "https://localhost:8080/"
        },
        "id": "75vy1MxWLMbZ",
        "outputId": "b59f3187-7e76-4a8a-e865-9e44cdf4ddeb"
      },
      "outputs": [
        {
          "name": "stdout",
          "output_type": "stream",
          "text": [
            "<class 'pandas.core.frame.DataFrame'>\n",
            "RangeIndex: 1144 entries, 0 to 1143\n",
            "Data columns (total 65 columns):\n",
            " #   Column                                                                                             Non-Null Count  Dtype  \n",
            "---  ------                                                                                             --------------  -----  \n",
            " 0   Student Number                                                                                     1144 non-null   int64  \n",
            " 1   Age                                                                                                1144 non-null   int64  \n",
            " 2   Gender                                                                                             1144 non-null   object \n",
            " 3   Education Level                                                                                    1144 non-null   float64\n",
            " 4   Major/Field of Study                                                                               1144 non-null   object \n",
            " 5   Department Selection                                                                               1144 non-null   object \n",
            " 6   CGPA                                                                                               1144 non-null   float64\n",
            " 7   CGPA Comparison                                                                                    1144 non-null   float64\n",
            " 8   Average Course Grade Range                                                                         1144 non-null   float64\n",
            " 9   Questions Understandable                                                                           1144 non-null   object \n",
            " 10  Marking System Strictness                                                                          1144 non-null   object \n",
            " 11  Retake Courses                                                                                     1144 non-null   object \n",
            " 12  Weekly Study Hours                                                                                 1144 non-null   float64\n",
            " 13  Preferred Study Location                                                                           1144 non-null   object \n",
            " 14  Job Status                                                                                         1144 non-null   float64\n",
            " 15  Family Impact on Study                                                                             1144 non-null   object \n",
            " 16  Travel Time to Campus                                                                              1144 non-null   float64\n",
            " 17  Past Failures                                                                                      1144 non-null   object \n",
            " 18  Comfort with Online Learning                                                                       1144 non-null   object \n",
            " 19  Academic Performance Level                                                                         1144 non-null   int64  \n",
            " 20  Semester Fee Level                                                                                 1144 non-null   object \n",
            " 21  Access to Technology                                                                               1144 non-null   object \n",
            " 22  Average Sleep Hours                                                                                1144 non-null   float64\n",
            " 23  Academic Stress Level                                                                              1144 non-null   int64  \n",
            " 24  Regular Workout                                                                                    1144 non-null   float64\n",
            " 25  Academic Satisfaction Level                                                                        1144 non-null   int64  \n",
            " 26  Use of Support Services                                                                            1144 non-null   object \n",
            " 27  Additional Academic Comments                                                                       1144 non-null   object \n",
            " 28  Father's Occupation                                                                                1144 non-null   object \n",
            " 29  Mother's Occupation                                                                                1144 non-null   object \n",
            " 30  Family Size                                                                                        1144 non-null   int64  \n",
            " 31  Marital Status                                                                                     1144 non-null   object \n",
            " 32  Living Area                                                                                        1144 non-null   object \n",
            " 33  Financial Issues                                                                                   1144 non-null   object \n",
            " 34  Scholarship Status                                                                                 1144 non-null   object \n",
            " 35  Physical Health                                                                                    1144 non-null   float64\n",
            " 36  Tuition Satisfaction                                                                               1144 non-null   float64\n",
            " 37  Family Support                                                                                     1144 non-null   object \n",
            " 38  Additional Tuition/Tutoring                                                                        1144 non-null   object \n",
            " 39  Social Media Time                                                                                  1144 non-null   float64\n",
            " 40  Current Addictions                                                                                 1144 non-null   object \n",
            " 41  Performance Measurement(Assignment)                                                                1144 non-null   object \n",
            " 42  Performance Measurement(Written)                                                                   1144 non-null   object \n",
            " 43  Performance Measurement(MCQ)                                                                       1144 non-null   object \n",
            " 44  Performance Measurement(Presentation)                                                              1144 non-null   object \n",
            " 45  Performance Measurement(Oral)                                                                      1144 non-null   object \n",
            " 46  Preferred Study Methods(Participating in group study sessions or study groups)                     1144 non-null   object \n",
            " 47  Preferred Study Methods(Reading textbooks and lecture notes)                                       1144 non-null   object \n",
            " 48  Preferred Study Methods(Taking notes and reviewing them regularly)                                 1144 non-null   object \n",
            " 49  Preferred Study Methods(Other (please specify))                                                    1144 non-null   object \n",
            " 50  Preferred Study Methods(Watching educational videos or tutorials)                                  1144 non-null   object \n",
            " 51  Preferred Study Methods(Utilizing online resources or interactive learning platforms)              1144 non-null   object \n",
            " 52  Academic Challenges(Participation in Class)                                                        1144 non-null   object \n",
            " 53  Academic Challenges( Understanding Course Material)                                                1144 non-null   object \n",
            " 54  Academic Challenges(Critical Thinking)                                                             1144 non-null   object \n",
            " 55  Academic Challenges(Technical Skills)                                                              1144 non-null   object \n",
            " 56  Academic Challenges(Language Barriers)                                                             1144 non-null   object \n",
            " 57  Academic Challenges(Time Management)                                                               1144 non-null   object \n",
            " 58  Extracurricular Participation(Student government or leadership positions)                          1144 non-null   object \n",
            " 59  Extracurricular Participation(Community service organizations)                                     1144 non-null   object \n",
            " 60  Extracurricular Participation(Arts clubs)                                                          1144 non-null   object \n",
            " 61  Extracurricular Participation(Special interest clubs)                                              1144 non-null   object \n",
            " 62  Extracurricular Participation(Academic clubs)                                                      1144 non-null   object \n",
            " 63  Extracurricular Participation(Sports teams)                                                        1144 non-null   object \n",
            " 64  Extracurricular Participation(None of the above / Not involved in any extracurricular activities)  1144 non-null   object \n",
            "dtypes: float64(12), int64(6), object(47)\n",
            "memory usage: 581.1+ KB\n"
          ]
        }
      ],
      "source": [
        "X.info()"
      ]
    },
    {
      "cell_type": "code",
      "execution_count": null,
      "metadata": {
        "colab": {
          "base_uri": "https://localhost:8080/"
        },
        "id": "F70O2igRN4on",
        "outputId": "bc9b4f38-78d7-47db-cbb8-d2215f704e9d"
      },
      "outputs": [
        {
          "data": {
            "text/plain": [
              "0       Yes\n",
              "1        No\n",
              "2        No\n",
              "3       Yes\n",
              "4       Yes\n",
              "       ... \n",
              "1139    Yes\n",
              "1140    Yes\n",
              "1141     No\n",
              "1142    Yes\n",
              "1143    Yes\n",
              "Name: Dropout, Length: 1144, dtype: object"
            ]
          },
          "execution_count": 121,
          "metadata": {},
          "output_type": "execute_result"
        }
      ],
      "source": [
        "Y"
      ]
    },
    {
      "cell_type": "code",
      "execution_count": null,
      "metadata": {
        "id": "7fbD_XaEMgEw"
      },
      "outputs": [],
      "source": [
        "# Label encoding for the target column\n",
        "label_enc = LabelEncoder()\n",
        "Y= label_enc.fit_transform(Y)"
      ]
    },
    {
      "cell_type": "code",
      "execution_count": null,
      "metadata": {
        "id": "1ZvR11OtLpOD"
      },
      "outputs": [],
      "source": [
        "# Identify object columns\n",
        "object_cols = X.select_dtypes(include='object').columns\n",
        "# Perform one-hot encoding on object columns and concatenate to the original DataFrame\n",
        "X = pd.get_dummies(X, columns=object_cols, drop_first=True)"
      ]
    },
    {
      "cell_type": "markdown",
      "metadata": {
        "id": "r6SfGtSkNixe"
      },
      "source": [
        "Train Test Split"
      ]
    },
    {
      "cell_type": "code",
      "execution_count": null,
      "metadata": {
        "colab": {
          "background_save": true
        },
        "id": "aORj7oOfNh6m"
      },
      "outputs": [],
      "source": [
        "from sklearn.model_selection import train_test_split\n",
        "x_train, x_test, y_train, y_test = train_test_split(X, Y, test_size=0.2, random_state=42)"
      ]
    },
    {
      "cell_type": "code",
      "execution_count": null,
      "metadata": {
        "colab": {
          "background_save": true,
          "base_uri": "https://localhost:8080/"
        },
        "id": "wTOlpdLIigL8",
        "outputId": "76a212bb-f017-4ba0-a6fc-c85de4459ddd"
      },
      "outputs": [
        {
          "data": {
            "text/plain": [
              "(915, 128)"
            ]
          },
          "execution_count": 365,
          "metadata": {},
          "output_type": "execute_result"
        }
      ],
      "source": [
        "x_train.shape"
      ]
    },
    {
      "cell_type": "code",
      "execution_count": null,
      "metadata": {
        "colab": {
          "background_save": true,
          "base_uri": "https://localhost:8080/"
        },
        "id": "a6LNxweOirEF",
        "outputId": "dbddece5-60a3-48c7-889f-412325cbb201"
      },
      "outputs": [
        {
          "data": {
            "text/plain": [
              "(229, 128)"
            ]
          },
          "execution_count": 366,
          "metadata": {},
          "output_type": "execute_result"
        }
      ],
      "source": [
        "x_test.shape"
      ]
    },
    {
      "cell_type": "markdown",
      "metadata": {
        "id": "rP1Kute9OAzA"
      },
      "source": [
        "ML"
      ]
    },
    {
      "cell_type": "code",
      "execution_count": null,
      "metadata": {
        "colab": {
          "background_save": true,
          "base_uri": "https://localhost:8080/"
        },
        "id": "rRTvf9aWN-Bf",
        "outputId": "3ad20a3e-a44a-4bba-e862-2accee6e5923"
      },
      "outputs": [
        {
          "name": "stdout",
          "output_type": "stream",
          "text": [
            "Accuracy: 53.71%\n"
          ]
        }
      ],
      "source": [
        "from sklearn.metrics import accuracy_score, confusion_matrix, classification_report\n",
        "#SVM\n",
        "\n",
        "from sklearn.svm import SVC\n",
        "svc=SVC()\n",
        "svc.fit(x_train,y_train)\n",
        "y_pred=svc.predict(x_test)\n",
        "accuracy = accuracy_score(y_test, y_pred)\n",
        "print(f\"Accuracy: {accuracy * 100:.2f}%\")"
      ]
    },
    {
      "cell_type": "code",
      "execution_count": null,
      "metadata": {
        "colab": {
          "background_save": true,
          "base_uri": "https://localhost:8080/",
          "height": 641
        },
        "id": "QUbUXM_NivbU",
        "outputId": "c960bdc5-34f7-47d8-f985-2e6368cda6ae"
      },
      "outputs": [
        {
          "data": {
            "image/png": "[encoded data removed]",
            "text/plain": [
              "<Figure size 1000x700 with 2 Axes>"
            ]
          },
          "metadata": {},
          "output_type": "display_data"
        }
      ],
      "source": [
        "import matplotlib.pyplot as plt\n",
        "import seaborn as sns\n",
        "\n",
        "# Create the confusion matrix\n",
        "conf_matrix = confusion_matrix(y_test, y_pred)\n",
        "\n",
        "# Plot the confusion matrix\n",
        "plt.figure(figsize=(10, 7))\n",
        "sns.heatmap(conf_matrix, annot=True, fmt='d', cmap='Blues', xticklabels=['Predicted Class 0', 'Predicted Class 1'], yticklabels=['Actual Class 0', 'Actual Class 1'])\n",
        "plt.xlabel('Predicted Labels')\n",
        "plt.ylabel('True Labels')\n",
        "plt.title('Confusion Matrix')\n",
        "plt.show()\n"
      ]
    },
    {
      "cell_type": "code",
      "execution_count": null,
      "metadata": {
        "colab": {
          "background_save": true,
          "base_uri": "https://localhost:8080/"
        },
        "id": "QFsu1gAzjU4W",
        "outputId": "ab342114-ccfe-43e3-9033-5f5247928e53"
      },
      "outputs": [
        {
          "name": "stdout",
          "output_type": "stream",
          "text": [
            "Classification Report:\n",
            "               precision    recall  f1-score   support\n",
            "\n",
            "           0       0.54      1.00      0.70       123\n",
            "           1       0.00      0.00      0.00       106\n",
            "\n",
            "    accuracy                           0.54       229\n",
            "   macro avg       0.27      0.50      0.35       229\n",
            "weighted avg       0.29      0.54      0.38       229\n",
            "\n"
          ]
        },
        {
          "name": "stderr",
          "output_type": "stream",
          "text": [
            "/usr/local/lib/python3.10/dist-packages/sklearn/metrics/_classification.py:1344: UndefinedMetricWarning: Precision and F-score are ill-defined and being set to 0.0 in labels with no predicted samples. Use `zero_division` parameter to control this behavior.\n",
            "  _warn_prf(average, modifier, msg_start, len(result))\n",
            "/usr/local/lib/python3.10/dist-packages/sklearn/metrics/_classification.py:1344: UndefinedMetricWarning: Precision and F-score are ill-defined and being set to 0.0 in labels with no predicted samples. Use `zero_division` parameter to control this behavior.\n",
            "  _warn_prf(average, modifier, msg_start, len(result))\n",
            "/usr/local/lib/python3.10/dist-packages/sklearn/metrics/_classification.py:1344: UndefinedMetricWarning: Precision and F-score are ill-defined and being set to 0.0 in labels with no predicted samples. Use `zero_division` parameter to control this behavior.\n",
            "  _warn_prf(average, modifier, msg_start, len(result))\n"
          ]
        }
      ],
      "source": [
        "from sklearn.metrics import classification_report\n",
        "\n",
        "# Create the classification report\n",
        "class_report = classification_report(y_test, y_pred)\n",
        "print(\"Classification Report:\\n\", class_report)\n"
      ]
    },
    {
      "cell_type": "code",
      "execution_count": null,
      "metadata": {
        "colab": {
          "background_save": true,
          "base_uri": "https://localhost:8080/"
        },
        "id": "xWuwfVO3OQUg",
        "outputId": "c918c0fc-7956-4253-840c-70d8844bbd5d"
      },
      "outputs": [
        {
          "name": "stdout",
          "output_type": "stream",
          "text": [
            "Accuracy: 55.02%\n"
          ]
        }
      ],
      "source": [
        "#KNN\n",
        "\n",
        "from sklearn.neighbors import KNeighborsClassifier\n",
        "knn = KNeighborsClassifier(n_neighbors=5)\n",
        "knn.fit(x_train, y_train)\n",
        "y_pred = knn.predict(x_test)\n",
        "accuracy = accuracy_score(y_test, y_pred)\n",
        "print(f\"Accuracy: {accuracy * 100:.2f}%\")"
      ]
    },
    {
      "cell_type": "code",
      "execution_count": null,
      "metadata": {
        "colab": {
          "background_save": true,
          "base_uri": "https://localhost:8080/",
          "height": 641
        },
        "id": "3-pAonxQjcb3",
        "outputId": "f9f6f1da-6d3a-4e66-dd53-c1398d3fb4fc"
      },
      "outputs": [
        {
          "data": {
            "image/png": "[encoded data removed]",
            "text/plain": [
              "<Figure size 1000x700 with 2 Axes>"
            ]
          },
          "metadata": {},
          "output_type": "display_data"
        }
      ],
      "source": [
        "import matplotlib.pyplot as plt\n",
        "import seaborn as sns\n",
        "\n",
        "# Create the confusion matrix\n",
        "conf_matrix = confusion_matrix(y_test, y_pred)\n",
        "\n",
        "# Plot the confusion matrix\n",
        "plt.figure(figsize=(10, 7))\n",
        "sns.heatmap(conf_matrix, annot=True, fmt='d', cmap='Blues', xticklabels=['Predicted Class 0', 'Predicted Class 1'], yticklabels=['Actual Class 0', 'Actual Class 1'])\n",
        "plt.xlabel('Predicted Labels')\n",
        "plt.ylabel('True Labels')\n",
        "plt.title('Confusion Matrix')\n",
        "plt.show()\n"
      ]
    },
    {
      "cell_type": "code",
      "execution_count": null,
      "metadata": {
        "colab": {
          "background_save": true,
          "base_uri": "https://localhost:8080/"
        },
        "id": "GxOAdqhyjcb_",
        "outputId": "27f2dae5-155d-4bae-cc6f-00044d96f2fd"
      },
      "outputs": [
        {
          "name": "stdout",
          "output_type": "stream",
          "text": [
            "Classification Report:\n",
            "               precision    recall  f1-score   support\n",
            "\n",
            "           0       0.57      0.68      0.62       123\n",
            "           1       0.52      0.40      0.45       106\n",
            "\n",
            "    accuracy                           0.55       229\n",
            "   macro avg       0.54      0.54      0.53       229\n",
            "weighted avg       0.54      0.55      0.54       229\n",
            "\n"
          ]
        }
      ],
      "source": [
        "from sklearn.metrics import classification_report\n",
        "\n",
        "# Create the classification report\n",
        "class_report = classification_report(y_test, y_pred)\n",
        "print(\"Classification Report:\\n\", class_report)\n"
      ]
    },
    {
      "cell_type": "code",
      "execution_count": null,
      "metadata": {
        "colab": {
          "background_save": true,
          "base_uri": "https://localhost:8080/"
        },
        "id": "rKuxKKAzOWkA",
        "outputId": "a9db8151-f0e4-497a-978a-7fcf7f6332c1"
      },
      "outputs": [
        {
          "name": "stdout",
          "output_type": "stream",
          "text": [
            "Accuracy: 68.56%\n"
          ]
        }
      ],
      "source": [
        "# Naive Bias\n",
        "\n",
        "from sklearn.naive_bayes import GaussianNB\n",
        "nb = GaussianNB()\n",
        "nb.fit(x_train, y_train)\n",
        "y_pred = nb.predict(x_test)\n",
        "accuracy = accuracy_score(y_test, y_pred)\n",
        "print(f\"Accuracy: {accuracy * 100:.2f}%\")"
      ]
    },
    {
      "cell_type": "code",
      "execution_count": null,
      "metadata": {
        "colab": {
          "background_save": true,
          "base_uri": "https://localhost:8080/",
          "height": 641
        },
        "id": "9k94tt7MjduQ",
        "outputId": "ac20a68a-c63f-4b2b-f942-6769396c1342"
      },
      "outputs": [
        {
          "data": {
            "image/png": "[encoded data removed]",
            "text/plain": [
              "<Figure size 1000x700 with 2 Axes>"
            ]
          },
          "metadata": {},
          "output_type": "display_data"
        }
      ],
      "source": [
        "import matplotlib.pyplot as plt\n",
        "import seaborn as sns\n",
        "\n",
        "# Create the confusion matrix\n",
        "conf_matrix = confusion_matrix(y_test, y_pred)\n",
        "\n",
        "# Plot the confusion matrix\n",
        "plt.figure(figsize=(10, 7))\n",
        "sns.heatmap(conf_matrix, annot=True, fmt='d', cmap='Blues', xticklabels=['Predicted Class 0', 'Predicted Class 1'], yticklabels=['Actual Class 0', 'Actual Class 1'])\n",
        "plt.xlabel('Predicted Labels')\n",
        "plt.ylabel('True Labels')\n",
        "plt.title('Confusion Matrix')\n",
        "plt.show()\n"
      ]
    },
    {
      "cell_type": "code",
      "execution_count": null,
      "metadata": {
        "colab": {
          "background_save": true,
          "base_uri": "https://localhost:8080/"
        },
        "id": "j5DAjwsSjduY",
        "outputId": "bb35ea2f-5645-4fe1-d8ad-944912cc7d4d"
      },
      "outputs": [
        {
          "name": "stdout",
          "output_type": "stream",
          "text": [
            "Classification Report:\n",
            "               precision    recall  f1-score   support\n",
            "\n",
            "           0       0.70      0.72      0.71       123\n",
            "           1       0.67      0.64      0.65       106\n",
            "\n",
            "    accuracy                           0.69       229\n",
            "   macro avg       0.68      0.68      0.68       229\n",
            "weighted avg       0.68      0.69      0.69       229\n",
            "\n"
          ]
        }
      ],
      "source": [
        "from sklearn.metrics import classification_report\n",
        "\n",
        "# Create the classification report\n",
        "class_report = classification_report(y_test, y_pred)\n",
        "print(\"Classification Report:\\n\", class_report)\n"
      ]
    },
    {
      "cell_type": "code",
      "execution_count": null,
      "metadata": {
        "colab": {
          "background_save": true,
          "base_uri": "https://localhost:8080/"
        },
        "id": "hsPTWTA9Olq8",
        "outputId": "470c1bea-a958-48ce-acbd-0ac544dbfccc"
      },
      "outputs": [
        {
          "name": "stdout",
          "output_type": "stream",
          "text": [
            "Accuracy: 84.72%\n"
          ]
        }
      ],
      "source": [
        "# Decision Tree Classification\n",
        "\n",
        "from sklearn.tree import DecisionTreeClassifier\n",
        "dt = DecisionTreeClassifier()\n",
        "dt.fit(x_train, y_train)\n",
        "y_pred = dt.predict(x_test)\n",
        "accuracy = accuracy_score(y_test, y_pred)\n",
        "print(f\"Accuracy: {accuracy * 100:.2f}%\")"
      ]
    },
    {
      "cell_type": "code",
      "execution_count": null,
      "metadata": {
        "colab": {
          "background_save": true,
          "base_uri": "https://localhost:8080/",
          "height": 641
        },
        "id": "Aob_Sg6vjeUh",
        "outputId": "fefc4a93-6b5b-4fe4-9f71-5674d6c097e8"
      },
      "outputs": [
        {
          "data": {
            "image/png": "[encoded data removed]",
            "text/plain": [
              "<Figure size 1000x700 with 2 Axes>"
            ]
          },
          "metadata": {},
          "output_type": "display_data"
        }
      ],
      "source": [
        "import matplotlib.pyplot as plt\n",
        "import seaborn as sns\n",
        "\n",
        "# Create the confusion matrix\n",
        "conf_matrix = confusion_matrix(y_test, y_pred)\n",
        "\n",
        "# Plot the confusion matrix\n",
        "plt.figure(figsize=(10, 7))\n",
        "sns.heatmap(conf_matrix, annot=True, fmt='d', cmap='Blues', xticklabels=['Predicted Class 0', 'Predicted Class 1'], yticklabels=['Actual Class 0', 'Actual Class 1'])\n",
        "plt.xlabel('Predicted Labels')\n",
        "plt.ylabel('True Labels')\n",
        "plt.title('Confusion Matrix')\n",
        "plt.show()\n"
      ]
    },
    {
      "cell_type": "code",
      "execution_count": null,
      "metadata": {
        "colab": {
          "background_save": true,
          "base_uri": "https://localhost:8080/"
        },
        "id": "0aNy67yxjeUh",
        "outputId": "60285080-6da0-472f-f472-2c790a3e0ea3"
      },
      "outputs": [
        {
          "name": "stdout",
          "output_type": "stream",
          "text": [
            "Classification Report:\n",
            "               precision    recall  f1-score   support\n",
            "\n",
            "           0       0.82      0.91      0.86       123\n",
            "           1       0.88      0.77      0.82       106\n",
            "\n",
            "    accuracy                           0.85       229\n",
            "   macro avg       0.85      0.84      0.84       229\n",
            "weighted avg       0.85      0.85      0.85       229\n",
            "\n"
          ]
        }
      ],
      "source": [
        "from sklearn.metrics import classification_report\n",
        "\n",
        "# Create the classification report\n",
        "class_report = classification_report(y_test, y_pred)\n",
        "print(\"Classification Report:\\n\", class_report)\n"
      ]
    },
    {
      "cell_type": "code",
      "execution_count": null,
      "metadata": {
        "colab": {
          "background_save": true,
          "base_uri": "https://localhost:8080/"
        },
        "id": "IYLHjY2rOvOn",
        "outputId": "88ecf4bd-2d87-4caf-a125-facfa6e64ded"
      },
      "outputs": [
        {
          "name": "stdout",
          "output_type": "stream",
          "text": [
            "Accuracy: 87.34%\n"
          ]
        }
      ],
      "source": [
        "# Random Forest\n",
        "\n",
        "from sklearn.ensemble import RandomForestClassifier\n",
        "rf = RandomForestClassifier()\n",
        "rf.fit(x_train, y_train)\n",
        "y_pred = rf.predict(x_test)\n",
        "accuracy = accuracy_score(y_test, y_pred)\n",
        "print(f\"Accuracy: {accuracy * 100:.2f}%\")"
      ]
    },
    {
      "cell_type": "code",
      "execution_count": null,
      "metadata": {
        "colab": {
          "background_save": true,
          "base_uri": "https://localhost:8080/",
          "height": 641
        },
        "id": "qXQr0PJrjezo",
        "outputId": "44444746-579d-4dbc-cbc9-1cd1e78cab6c"
      },
      "outputs": [
        {
          "data": {
            "image/png": "[encoded data removed]",
            "text/plain": [
              "<Figure size 1000x700 with 2 Axes>"
            ]
          },
          "metadata": {},
          "output_type": "display_data"
        }
      ],
      "source": [
        "import matplotlib.pyplot as plt\n",
        "import seaborn as sns\n",
        "\n",
        "# Create the confusion matrix\n",
        "conf_matrix = confusion_matrix(y_test, y_pred)\n",
        "\n",
        "# Plot the confusion matrix\n",
        "plt.figure(figsize=(10, 7))\n",
        "sns.heatmap(conf_matrix, annot=True, fmt='d', cmap='Blues', xticklabels=['Predicted Class 0', 'Predicted Class 1'], yticklabels=['Actual Class 0', 'Actual Class 1'])\n",
        "plt.xlabel('Predicted Labels')\n",
        "plt.ylabel('True Labels')\n",
        "plt.title('Confusion Matrix')\n",
        "plt.show()\n"
      ]
    },
    {
      "cell_type": "code",
      "execution_count": null,
      "metadata": {
        "colab": {
          "background_save": true,
          "base_uri": "https://localhost:8080/"
        },
        "id": "gO83rzXXjezo",
        "outputId": "c968ba28-50d0-40e8-fb79-05244b80cbb8"
      },
      "outputs": [
        {
          "name": "stdout",
          "output_type": "stream",
          "text": [
            "Classification Report:\n",
            "               precision    recall  f1-score   support\n",
            "\n",
            "           0       0.84      0.95      0.89       123\n",
            "           1       0.93      0.78      0.85       106\n",
            "\n",
            "    accuracy                           0.87       229\n",
            "   macro avg       0.88      0.87      0.87       229\n",
            "weighted avg       0.88      0.87      0.87       229\n",
            "\n"
          ]
        }
      ],
      "source": [
        "from sklearn.metrics import classification_report\n",
        "\n",
        "# Create the classification report\n",
        "class_report = classification_report(y_test, y_pred)\n",
        "print(\"Classification Report:\\n\", class_report)\n"
      ]
    },
    {
      "cell_type": "code",
      "execution_count": null,
      "metadata": {
        "colab": {
          "background_save": true,
          "base_uri": "https://localhost:8080/"
        },
        "id": "3W1ipd80O-HF",
        "outputId": "db53ba67-e812-4291-c760-d5ae0cd00e8a"
      },
      "outputs": [
        {
          "name": "stdout",
          "output_type": "stream",
          "text": [
            "Accuracy: 93.89%\n"
          ]
        }
      ],
      "source": [
        "# Gradient Boosting\n",
        "\n",
        "from sklearn.ensemble import GradientBoostingClassifier\n",
        "gb = GradientBoostingClassifier()\n",
        "gb.fit(x_train,y_train)\n",
        "y_pred=gb.predict(x_test)\n",
        "accuracy = accuracy_score(y_test, y_pred)\n",
        "print(f\"Accuracy: {accuracy * 100:.2f}%\")"
      ]
    },
    {
      "cell_type": "code",
      "execution_count": null,
      "metadata": {
        "colab": {
          "background_save": true,
          "base_uri": "https://localhost:8080/",
          "height": 641
        },
        "id": "38IVn7ZQjfTA",
        "outputId": "c7d04f5f-c136-44c2-f0d9-b9ef32fdc52d"
      },
      "outputs": [
        {
          "data": {
            "image/png": "[encoded data removed]",
            "text/plain": [
              "<Figure size 1000x700 with 2 Axes>"
            ]
          },
          "metadata": {},
          "output_type": "display_data"
        }
      ],
      "source": [
        "import matplotlib.pyplot as plt\n",
        "import seaborn as sns\n",
        "\n",
        "# Create the confusion matrix\n",
        "conf_matrix = confusion_matrix(y_test, y_pred)\n",
        "\n",
        "# Plot the confusion matrix\n",
        "plt.figure(figsize=(10, 7))\n",
        "sns.heatmap(conf_matrix, annot=True, fmt='d', cmap='Blues', xticklabels=['Predicted Class 0', 'Predicted Class 1'], yticklabels=['Actual Class 0', 'Actual Class 1'])\n",
        "plt.xlabel('Predicted Labels')\n",
        "plt.ylabel('True Labels')\n",
        "plt.title('Confusion Matrix')\n",
        "plt.show()\n"
      ]
    },
    {
      "cell_type": "code",
      "execution_count": null,
      "metadata": {
        "colab": {
          "background_save": true,
          "base_uri": "https://localhost:8080/"
        },
        "id": "f8ZqZ4YbjfTA",
        "outputId": "68eb32a9-c660-494e-cd81-fb93f20c4a1d"
      },
      "outputs": [
        {
          "name": "stdout",
          "output_type": "stream",
          "text": [
            "Classification Report:\n",
            "               precision    recall  f1-score   support\n",
            "\n",
            "           0       0.91      0.98      0.94       123\n",
            "           1       0.97      0.89      0.93       106\n",
            "\n",
            "    accuracy                           0.93       229\n",
            "   macro avg       0.94      0.93      0.93       229\n",
            "weighted avg       0.94      0.93      0.93       229\n",
            "\n"
          ]
        }
      ],
      "source": [
        "from sklearn.metrics import classification_report\n",
        "\n",
        "# Create the classification report\n",
        "class_report = classification_report(y_test, y_pred)\n",
        "print(\"Classification Report:\\n\", class_report)\n"
      ]
    },
    {
      "cell_type": "code",
      "execution_count": null,
      "metadata": {
        "colab": {
          "background_save": true,
          "base_uri": "https://localhost:8080/"
        },
        "id": "9ijHXmM7PEm1",
        "outputId": "3168da69-ce8c-4045-f69a-ca1ff6bfcf36"
      },
      "outputs": [
        {
          "name": "stdout",
          "output_type": "stream",
          "text": [
            "Accuracy: 92.58%\n"
          ]
        }
      ],
      "source": [
        "# XGB\n",
        "\n",
        "from xgboost import XGBClassifier\n",
        "xgb = XGBClassifier()\n",
        "xgb.fit(x_train,y_train)\n",
        "y_pred=xgb.predict(x_test)\n",
        "accuracy = accuracy_score(y_test, y_pred)\n",
        "print(f\"Accuracy: {accuracy * 100:.2f}%\")"
      ]
    },
    {
      "cell_type": "code",
      "execution_count": null,
      "metadata": {
        "colab": {
          "background_save": true,
          "base_uri": "https://localhost:8080/",
          "height": 641
        },
        "id": "F8HL50LVjf0x",
        "outputId": "3308369b-14f7-42e7-f754-d93a0afab638"
      },
      "outputs": [
        {
          "data": {
            "image/png": "[encoded data removed]",
            "text/plain": [
              "<Figure size 1000x700 with 2 Axes>"
            ]
          },
          "metadata": {},
          "output_type": "display_data"
        }
      ],
      "source": [
        "import matplotlib.pyplot as plt\n",
        "import seaborn as sns\n",
        "\n",
        "# Create the confusion matrix\n",
        "conf_matrix = confusion_matrix(y_test, y_pred)\n",
        "\n",
        "# Plot the confusion matrix\n",
        "plt.figure(figsize=(10, 7))\n",
        "sns.heatmap(conf_matrix, annot=True, fmt='d', cmap='Blues', xticklabels=['Predicted Class 0', 'Predicted Class 1'], yticklabels=['Actual Class 0', 'Actual Class 1'])\n",
        "plt.xlabel('Predicted Labels')\n",
        "plt.ylabel('True Labels')\n",
        "plt.title('Confusion Matrix')\n",
        "plt.show()\n"
      ]
    },
    {
      "cell_type": "code",
      "execution_count": null,
      "metadata": {
        "colab": {
          "background_save": true,
          "base_uri": "https://localhost:8080/"
        },
        "id": "3bwvGAidjf0y",
        "outputId": "c0ae6166-316e-4d3b-8b88-6f97282cfc2b"
      },
      "outputs": [
        {
          "name": "stdout",
          "output_type": "stream",
          "text": [
            "Classification Report:\n",
            "               precision    recall  f1-score   support\n",
            "\n",
            "           0       0.91      0.95      0.93       123\n",
            "           1       0.94      0.90      0.92       106\n",
            "\n",
            "    accuracy                           0.93       229\n",
            "   macro avg       0.93      0.92      0.93       229\n",
            "weighted avg       0.93      0.93      0.93       229\n",
            "\n"
          ]
        }
      ],
      "source": [
        "from sklearn.metrics import classification_report\n",
        "\n",
        "# Create the classification report\n",
        "class_report = classification_report(y_test, y_pred)\n",
        "print(\"Classification Report:\\n\", class_report)\n"
      ]
    },
    {
      "cell_type": "code",
      "execution_count": null,
      "metadata": {
        "colab": {
          "background_save": true,
          "base_uri": "https://localhost:8080/"
        },
        "id": "ZwBeb6xJPoL2",
        "outputId": "669daa2b-ce40-42a4-e290-21e2b36f3bb0"
      },
      "outputs": [
        {
          "name": "stdout",
          "output_type": "stream",
          "text": [
            "[LightGBM] [Warning] Found whitespace in feature_names, replace with underlines\n",
            "[LightGBM] [Info] Number of positive: 389, number of negative: 526\n",
            "[LightGBM] [Info] Auto-choosing row-wise multi-threading, the overhead of testing was 0.000788 seconds.\n",
            "You can set `force_row_wise=true` to remove the overhead.\n",
            "And if memory is not enough, you can set `force_col_wise=true`.\n",
            "[LightGBM] [Info] Total Bins 555\n",
            "[LightGBM] [Info] Number of data points in the train set: 915, number of used features: 104\n",
            "[LightGBM] [Info] [binary:BoostFromScore]: pavg=0.425137 -> initscore=-0.301722\n",
            "[LightGBM] [Info] Start training from score -0.301722\n",
            "[LightGBM] [Warning] No further splits with positive gain, best gain: -inf\n",
            "[LightGBM] [Warning] No further splits with positive gain, best gain: -inf\n",
            "Accuracy: 91.27%\n"
          ]
        }
      ],
      "source": [
        "# LGBM\n",
        "\n",
        "from lightgbm import LGBMClassifier\n",
        "lgb = LGBMClassifier()\n",
        "lgb.fit(x_train,y_train)\n",
        "y_pred=lgb.predict(x_test)\n",
        "accuracy = accuracy_score(y_test, y_pred)\n",
        "print(f\"Accuracy: {accuracy * 100:.2f}%\")"
      ]
    },
    {
      "cell_type": "code",
      "execution_count": null,
      "metadata": {
        "colab": {
          "background_save": true,
          "base_uri": "https://localhost:8080/",
          "height": 641
        },
        "id": "f3yyZi0UjgzR",
        "outputId": "f230ac5c-9514-46f4-e025-f7d1a1651bad"
      },
      "outputs": [
        {
          "data": {
            "image/png": "[encoded data removed]",
            "text/plain": [
              "<Figure size 1000x700 with 2 Axes>"
            ]
          },
          "metadata": {},
          "output_type": "display_data"
        }
      ],
      "source": [
        "import matplotlib.pyplot as plt\n",
        "import seaborn as sns\n",
        "\n",
        "# Create the confusion matrix\n",
        "conf_matrix = confusion_matrix(y_test, y_pred)\n",
        "\n",
        "# Plot the confusion matrix\n",
        "plt.figure(figsize=(10, 7))\n",
        "sns.heatmap(conf_matrix, annot=True, fmt='d', cmap='Blues', xticklabels=['Predicted Class 0', 'Predicted Class 1'], yticklabels=['Actual Class 0', 'Actual Class 1'])\n",
        "plt.xlabel('Predicted Labels')\n",
        "plt.ylabel('True Labels')\n",
        "plt.title('Confusion Matrix')\n",
        "plt.show()\n"
      ]
    },
    {
      "cell_type": "code",
      "execution_count": null,
      "metadata": {
        "colab": {
          "background_save": true,
          "base_uri": "https://localhost:8080/"
        },
        "id": "oHRSBXfwjgzY",
        "outputId": "3def5211-56dd-4cde-bd39-e141ca90bf86"
      },
      "outputs": [
        {
          "name": "stdout",
          "output_type": "stream",
          "text": [
            "Classification Report:\n",
            "               precision    recall  f1-score   support\n",
            "\n",
            "           0       0.89      0.95      0.92       123\n",
            "           1       0.94      0.87      0.90       106\n",
            "\n",
            "    accuracy                           0.91       229\n",
            "   macro avg       0.92      0.91      0.91       229\n",
            "weighted avg       0.91      0.91      0.91       229\n",
            "\n"
          ]
        }
      ],
      "source": [
        "from sklearn.metrics import classification_report\n",
        "\n",
        "# Create the classification report\n",
        "class_report = classification_report(y_test, y_pred)\n",
        "print(\"Classification Report:\\n\", class_report)\n"
      ]
    },
    {
      "cell_type": "code",
      "execution_count": null,
      "metadata": {
        "colab": {
          "background_save": true,
          "base_uri": "https://localhost:8080/",
          "height": 798
        },
        "id": "J7A_hC8fTQ_Y",
        "outputId": "d1eb4986-c0c4-4e1d-c093-4e8eb5d888e4"
      },
      "outputs": [
        {
          "name": "stdout",
          "output_type": "stream",
          "text": [
            "[LightGBM] [Warning] Found whitespace in feature_names, replace with underlines\n",
            "[LightGBM] [Info] Number of positive: 389, number of negative: 526\n",
            "[LightGBM] [Info] Auto-choosing row-wise multi-threading, the overhead of testing was 0.000632 seconds.\n",
            "You can set `force_row_wise=true` to remove the overhead.\n",
            "And if memory is not enough, you can set `force_col_wise=true`.\n",
            "[LightGBM] [Info] Total Bins 555\n",
            "[LightGBM] [Info] Number of data points in the train set: 915, number of used features: 104\n",
            "[LightGBM] [Info] [binary:BoostFromScore]: pavg=0.425137 -> initscore=-0.301722\n",
            "[LightGBM] [Info] Start training from score -0.301722\n",
            "[LightGBM] [Warning] No further splits with positive gain, best gain: -inf\n",
            "[LightGBM] [Warning] No further splits with positive gain, best gain: -inf\n"
          ]
        },
        {
          "data": {
            "image/png": "[encoded data removed]",
            "text/plain": [
              "<Figure size 1000x600 with 1 Axes>"
            ]
          },
          "metadata": {},
          "output_type": "display_data"
        }
      ],
      "source": [
        "import matplotlib.pyplot as plt\n",
        "import numpy as np\n",
        "from sklearn.metrics import accuracy_score\n",
        "from sklearn.tree import DecisionTreeClassifier\n",
        "from sklearn.ensemble import RandomForestClassifier, GradientBoostingClassifier\n",
        "from xgboost import XGBClassifier\n",
        "from lightgbm import LGBMClassifier\n",
        "from sklearn.model_selection import train_test_split\n",
        "\n",
        "import matplotlib.pyplot as plt\n",
        "import numpy as np\n",
        "from sklearn.metrics import accuracy_score\n",
        "from sklearn.tree import DecisionTreeClassifier\n",
        "from sklearn.ensemble import RandomForestClassifier, GradientBoostingClassifier\n",
        "from xgboost import XGBClassifier\n",
        "from lightgbm import LGBMClassifier\n",
        "from sklearn.model_selection import train_test_split\n",
        "\n",
        "# Define models\n",
        "models = {\n",
        "    'Decision Tree': DecisionTreeClassifier(),\n",
        "    'Random Forest': RandomForestClassifier(),\n",
        "    'Gradient Boosting': GradientBoostingClassifier(),\n",
        "    'XGBoost': XGBClassifier(),\n",
        "    'LightGBM': LGBMClassifier()\n",
        "}\n",
        "\n",
        "# Train and evaluate each model\n",
        "results = {}\n",
        "for name, model in models.items():\n",
        "    model.fit(x_train, y_train)\n",
        "    y_pred = model.predict(x_test)\n",
        "    accuracy = accuracy_score(y_test, y_pred)\n",
        "    results[name] = accuracy\n",
        "\n",
        "# Plot results\n",
        "plt.figure(figsize=(10, 6))\n",
        "bars = plt.bar(results.keys(), results.values(), color=['skyblue', 'lightgreen', 'lightcoral', 'orange', 'lightpink'])\n",
        "\n",
        "# Add accuracy values above bars\n",
        "for bar, acc in zip(bars, results.values()):\n",
        "    plt.text(bar.get_x() + bar.get_width() / 2, bar.get_height() + 0.01, f'{acc*100:.2f}%', ha='center', va='bottom', fontsize=10)\n",
        "\n",
        "plt.xlabel('Models')\n",
        "plt.ylabel('Accuracy')\n",
        "plt.title('Comparison of ML Models Based on Accuracy')\n",
        "plt.ylim([0.8, 1.0])  # Adjust the y-axis limits if necessary\n",
        "plt.xticks(rotation=45)\n",
        "plt.grid(axis='y', linestyle='--', alpha=0.7)\n",
        "plt.tight_layout()\n",
        "plt.show()"
      ]
    },
    {
      "cell_type": "markdown",
      "metadata": {
        "id": "g_Vgu9ooQP2s"
      },
      "source": [
        "Model save as pkl file"
      ]
    },
    {
      "cell_type": "code",
      "execution_count": null,
      "metadata": {
        "colab": {
          "background_save": true
        },
        "id": "v1ZIqPdfPhqZ"
      },
      "outputs": [],
      "source": [
        "import pickle\n",
        "\n",
        "# Assuming `model` is your trained machine learning model\n",
        "with open('model.pkl', 'wb') as file:\n",
        "    pickle.dump(gb, file)\n"
      ]
    },
    {
      "cell_type": "markdown",
      "metadata": {
        "id": "K9hyx9GlQd-E"
      },
      "source": [
        "Load model ( remove # of 3 and 4 line)"
      ]
    },
    {
      "cell_type": "code",
      "execution_count": null,
      "metadata": {
        "colab": {
          "background_save": true
        },
        "id": "836hx7DYQXVT"
      },
      "outputs": [],
      "source": [
        "import pickle\n",
        "# Load the model from the file\n",
        "# with open('model.pkl', 'rb') as file:\n",
        "    # loaded_model = pickle.load(file)\n",
        "\n",
        "# Now you can use `loaded_model` to make predictions or further training"
      ]
    }
  ],
  "metadata": {
    "colab": {
      "provenance": []
    },
    "kernelspec": {
      "display_name": "Python 3",
      "name": "python3"
    },
    "language_info": {
      "name": "python"
    }
  },
  "nbformat": 4,
  "nbformat_minor": 0
}